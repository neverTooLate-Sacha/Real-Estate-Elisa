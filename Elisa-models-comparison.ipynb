{
 "cells": [
  {
   "cell_type": "markdown",
   "id": "382cddfa",
   "metadata": {},
   "source": [
    "# Elisa real estate, finding a model\n",
    "\n",
    "Source: https://raw.githubusercontent.com/JulienAlardot/challenge-collecting-data/main/Data/database.csv\n",
    "\n",
    "Libraries :\n",
    "OneHotencoding\n",
    "XGboost\n",
    "Lasso\n",
    "Ridge\n",
    "Random forest\n",
    "sklearn.preprocessing.LabelEncoder\n",
    "\n",
    "Expected result: compare the prediction performance of the models, create best simulation and prediction"
   ]
  },
  {
   "cell_type": "code",
   "execution_count": 39,
   "id": "79ba7c28",
   "metadata": {},
   "outputs": [
    {
     "data": {
      "text/html": [
       "<div>\n",
       "<style scoped>\n",
       "    .dataframe tbody tr th:only-of-type {\n",
       "        vertical-align: middle;\n",
       "    }\n",
       "\n",
       "    .dataframe tbody tr th {\n",
       "        vertical-align: top;\n",
       "    }\n",
       "\n",
       "    .dataframe thead th {\n",
       "        text-align: right;\n",
       "    }\n",
       "</style>\n",
       "<table border=\"1\" class=\"dataframe\">\n",
       "  <thead>\n",
       "    <tr style=\"text-align: right;\">\n",
       "      <th></th>\n",
       "      <th>Url</th>\n",
       "      <th>Source</th>\n",
       "      <th>Locality</th>\n",
       "      <th>Type of property</th>\n",
       "      <th>Subtype of property</th>\n",
       "      <th>Price</th>\n",
       "      <th>Type of sale</th>\n",
       "      <th>Number of rooms</th>\n",
       "      <th>Area</th>\n",
       "      <th>Fully equipped kitchen</th>\n",
       "      <th>...</th>\n",
       "      <th>Terrace Area</th>\n",
       "      <th>Garden</th>\n",
       "      <th>Garden Area</th>\n",
       "      <th>Surface of the land</th>\n",
       "      <th>Surface area of the plot of land</th>\n",
       "      <th>Number of facades</th>\n",
       "      <th>Swimming pool</th>\n",
       "      <th>State of the building</th>\n",
       "      <th>Province</th>\n",
       "      <th>Region</th>\n",
       "    </tr>\n",
       "  </thead>\n",
       "  <tbody>\n",
       "    <tr>\n",
       "      <th>0</th>\n",
       "      <td>https://www.logic-immo.be/fr/vente/appartement...</td>\n",
       "      <td>logic-immo.be</td>\n",
       "      <td>2970</td>\n",
       "      <td>apartment</td>\n",
       "      <td>NaN</td>\n",
       "      <td>319799.0</td>\n",
       "      <td>regular sale</td>\n",
       "      <td>1.0</td>\n",
       "      <td>NaN</td>\n",
       "      <td>0.0</td>\n",
       "      <td>...</td>\n",
       "      <td>11.0</td>\n",
       "      <td>0.0</td>\n",
       "      <td>NaN</td>\n",
       "      <td>NaN</td>\n",
       "      <td>NaN</td>\n",
       "      <td>NaN</td>\n",
       "      <td>0.0</td>\n",
       "      <td>NaN</td>\n",
       "      <td>Antwerp</td>\n",
       "      <td>Vlaams</td>\n",
       "    </tr>\n",
       "    <tr>\n",
       "      <th>1</th>\n",
       "      <td>https://www.logic-immo.be/fr/vente/appartement...</td>\n",
       "      <td>logic-immo.be</td>\n",
       "      <td>2970</td>\n",
       "      <td>apartment</td>\n",
       "      <td>NaN</td>\n",
       "      <td>291999.0</td>\n",
       "      <td>regular sale</td>\n",
       "      <td>1.0</td>\n",
       "      <td>NaN</td>\n",
       "      <td>0.0</td>\n",
       "      <td>...</td>\n",
       "      <td>6.0</td>\n",
       "      <td>0.0</td>\n",
       "      <td>NaN</td>\n",
       "      <td>NaN</td>\n",
       "      <td>NaN</td>\n",
       "      <td>NaN</td>\n",
       "      <td>0.0</td>\n",
       "      <td>NaN</td>\n",
       "      <td>Antwerp</td>\n",
       "      <td>Vlaams</td>\n",
       "    </tr>\n",
       "    <tr>\n",
       "      <th>2</th>\n",
       "      <td>https://www.logic-immo.be/fr/vente/appartement...</td>\n",
       "      <td>logic-immo.be</td>\n",
       "      <td>2970</td>\n",
       "      <td>apartment</td>\n",
       "      <td>NaN</td>\n",
       "      <td>764999.0</td>\n",
       "      <td>regular sale</td>\n",
       "      <td>2.0</td>\n",
       "      <td>153.0</td>\n",
       "      <td>0.0</td>\n",
       "      <td>...</td>\n",
       "      <td>62.0</td>\n",
       "      <td>0.0</td>\n",
       "      <td>NaN</td>\n",
       "      <td>NaN</td>\n",
       "      <td>NaN</td>\n",
       "      <td>NaN</td>\n",
       "      <td>0.0</td>\n",
       "      <td>NaN</td>\n",
       "      <td>Antwerp</td>\n",
       "      <td>Vlaams</td>\n",
       "    </tr>\n",
       "    <tr>\n",
       "      <th>3</th>\n",
       "      <td>https://www.logic-immo.be/fr/vente/appartement...</td>\n",
       "      <td>logic-immo.be</td>\n",
       "      <td>2970</td>\n",
       "      <td>apartment</td>\n",
       "      <td>NaN</td>\n",
       "      <td>660264.0</td>\n",
       "      <td>regular sale</td>\n",
       "      <td>3.0</td>\n",
       "      <td>NaN</td>\n",
       "      <td>0.0</td>\n",
       "      <td>...</td>\n",
       "      <td>160.0</td>\n",
       "      <td>0.0</td>\n",
       "      <td>NaN</td>\n",
       "      <td>NaN</td>\n",
       "      <td>NaN</td>\n",
       "      <td>NaN</td>\n",
       "      <td>0.0</td>\n",
       "      <td>NaN</td>\n",
       "      <td>Antwerp</td>\n",
       "      <td>Vlaams</td>\n",
       "    </tr>\n",
       "  </tbody>\n",
       "</table>\n",
       "<p>4 rows × 23 columns</p>\n",
       "</div>"
      ],
      "text/plain": [
       "                                                 Url         Source  Locality  \\\n",
       "0  https://www.logic-immo.be/fr/vente/appartement...  logic-immo.be      2970   \n",
       "1  https://www.logic-immo.be/fr/vente/appartement...  logic-immo.be      2970   \n",
       "2  https://www.logic-immo.be/fr/vente/appartement...  logic-immo.be      2970   \n",
       "3  https://www.logic-immo.be/fr/vente/appartement...  logic-immo.be      2970   \n",
       "\n",
       "  Type of property Subtype of property     Price  Type of sale  \\\n",
       "0        apartment                 NaN  319799.0  regular sale   \n",
       "1        apartment                 NaN  291999.0  regular sale   \n",
       "2        apartment                 NaN  764999.0  regular sale   \n",
       "3        apartment                 NaN  660264.0  regular sale   \n",
       "\n",
       "   Number of rooms   Area  Fully equipped kitchen  ...  Terrace Area  Garden  \\\n",
       "0              1.0    NaN                     0.0  ...          11.0     0.0   \n",
       "1              1.0    NaN                     0.0  ...           6.0     0.0   \n",
       "2              2.0  153.0                     0.0  ...          62.0     0.0   \n",
       "3              3.0    NaN                     0.0  ...         160.0     0.0   \n",
       "\n",
       "   Garden Area  Surface of the land  Surface area of the plot of land  \\\n",
       "0          NaN                  NaN                               NaN   \n",
       "1          NaN                  NaN                               NaN   \n",
       "2          NaN                  NaN                               NaN   \n",
       "3          NaN                  NaN                               NaN   \n",
       "\n",
       "   Number of facades  Swimming pool  State of the building  Province  Region  \n",
       "0                NaN            0.0                    NaN   Antwerp  Vlaams  \n",
       "1                NaN            0.0                    NaN   Antwerp  Vlaams  \n",
       "2                NaN            0.0                    NaN   Antwerp  Vlaams  \n",
       "3                NaN            0.0                    NaN   Antwerp  Vlaams  \n",
       "\n",
       "[4 rows x 23 columns]"
      ]
     },
     "execution_count": 39,
     "metadata": {},
     "output_type": "execute_result"
    }
   ],
   "source": [
    "import pandas as pd\n",
    "import numpy as np\n",
    "from matplotlib import pyplot as plt\n",
    "%matplotlib inline\n",
    "import seaborn as sns\n",
    "df = pd.read_csv('./data/may.csv', index_col=0)\n",
    "df.head(4)"
   ]
  },
  {
   "cell_type": "markdown",
   "id": "fddfbacc",
   "metadata": {},
   "source": [
    "## Data cleaning\n",
    "\n",
    " - Existence of duplicated columns ?\n",
    " - Get rid of title column ? not needed -> np.array\n",
    " - Remove URL column which is there for debugging purpose\n",
    " - Remove columns with missing values with threshold more than 80% Nan or equivalent\n",
    " - Check if the type of data is homogenous per column if not clean, check unique\n",
    " - Check abnomalies and outliers\n",
    " "
   ]
  },
  {
   "cell_type": "code",
   "execution_count": 40,
   "id": "9765329a",
   "metadata": {},
   "outputs": [],
   "source": [
    "# get rid of unuseful data for ML\n",
    "df.drop(['Url', 'Source', 'Locality','Province', 'Region'], axis=1, inplace = True)"
   ]
  },
  {
   "cell_type": "code",
   "execution_count": 41,
   "id": "4547b611",
   "metadata": {},
   "outputs": [],
   "source": [
    "# df.duplicated().any() \n",
    "df.drop_duplicates(keep = 'first', inplace=True)"
   ]
  },
  {
   "cell_type": "code",
   "execution_count": 42,
   "id": "482cc3d4",
   "metadata": {},
   "outputs": [],
   "source": [
    "# get rid of columns with less than 20% data\n",
    "df.dropna(thresh=len(df)*0.8, axis='columns', inplace = True)"
   ]
  },
  {
   "cell_type": "code",
   "execution_count": 44,
   "id": "93ddd7e5",
   "metadata": {},
   "outputs": [],
   "source": [
    "# get rid of outliers\n",
    "# df.sort_values(by='Price', ascending = False).head(4)\n",
    "df = df[(df.Price >= 50000) & (df.Price <= 10000000)] "
   ]
  },
  {
   "cell_type": "code",
   "execution_count": 55,
   "id": "bfa8dbcd",
   "metadata": {},
   "outputs": [],
   "source": [
    "# df = df['Type of sale' == 'regular sale']\n",
    "# df = df[~df['your column'].isin(['list of strings'])]\n",
    "# df = df[df['your column'].isin(['list of strings'])]\n",
    "df = df[df['Type of sale'] == 'regular sale']"
   ]
  },
  {
   "cell_type": "code",
   "execution_count": 56,
   "id": "292247bb",
   "metadata": {},
   "outputs": [
    {
     "data": {
      "text/html": [
       "<div>\n",
       "<style scoped>\n",
       "    .dataframe tbody tr th:only-of-type {\n",
       "        vertical-align: middle;\n",
       "    }\n",
       "\n",
       "    .dataframe tbody tr th {\n",
       "        vertical-align: top;\n",
       "    }\n",
       "\n",
       "    .dataframe thead th {\n",
       "        text-align: right;\n",
       "    }\n",
       "</style>\n",
       "<table border=\"1\" class=\"dataframe\">\n",
       "  <thead>\n",
       "    <tr style=\"text-align: right;\">\n",
       "      <th></th>\n",
       "      <th>Type of property</th>\n",
       "      <th>Price</th>\n",
       "      <th>Type of sale</th>\n",
       "      <th>Number of rooms</th>\n",
       "      <th>Area</th>\n",
       "      <th>Fully equipped kitchen</th>\n",
       "      <th>Open fire</th>\n",
       "      <th>Terrace</th>\n",
       "      <th>Garden</th>\n",
       "      <th>Swimming pool</th>\n",
       "    </tr>\n",
       "  </thead>\n",
       "  <tbody>\n",
       "    <tr>\n",
       "      <th>0</th>\n",
       "      <td>apartment</td>\n",
       "      <td>319799.0</td>\n",
       "      <td>regular sale</td>\n",
       "      <td>1.0</td>\n",
       "      <td>NaN</td>\n",
       "      <td>0.0</td>\n",
       "      <td>0.0</td>\n",
       "      <td>1.0</td>\n",
       "      <td>0.0</td>\n",
       "      <td>0.0</td>\n",
       "    </tr>\n",
       "    <tr>\n",
       "      <th>1</th>\n",
       "      <td>apartment</td>\n",
       "      <td>291999.0</td>\n",
       "      <td>regular sale</td>\n",
       "      <td>1.0</td>\n",
       "      <td>NaN</td>\n",
       "      <td>0.0</td>\n",
       "      <td>0.0</td>\n",
       "      <td>1.0</td>\n",
       "      <td>0.0</td>\n",
       "      <td>0.0</td>\n",
       "    </tr>\n",
       "    <tr>\n",
       "      <th>2</th>\n",
       "      <td>apartment</td>\n",
       "      <td>764999.0</td>\n",
       "      <td>regular sale</td>\n",
       "      <td>2.0</td>\n",
       "      <td>153.0</td>\n",
       "      <td>0.0</td>\n",
       "      <td>0.0</td>\n",
       "      <td>1.0</td>\n",
       "      <td>0.0</td>\n",
       "      <td>0.0</td>\n",
       "    </tr>\n",
       "    <tr>\n",
       "      <th>3</th>\n",
       "      <td>apartment</td>\n",
       "      <td>660264.0</td>\n",
       "      <td>regular sale</td>\n",
       "      <td>3.0</td>\n",
       "      <td>NaN</td>\n",
       "      <td>0.0</td>\n",
       "      <td>0.0</td>\n",
       "      <td>1.0</td>\n",
       "      <td>0.0</td>\n",
       "      <td>0.0</td>\n",
       "    </tr>\n",
       "    <tr>\n",
       "      <th>4</th>\n",
       "      <td>apartment</td>\n",
       "      <td>294999.0</td>\n",
       "      <td>regular sale</td>\n",
       "      <td>2.0</td>\n",
       "      <td>80.0</td>\n",
       "      <td>0.0</td>\n",
       "      <td>0.0</td>\n",
       "      <td>0.0</td>\n",
       "      <td>0.0</td>\n",
       "      <td>0.0</td>\n",
       "    </tr>\n",
       "  </tbody>\n",
       "</table>\n",
       "</div>"
      ],
      "text/plain": [
       "  Type of property     Price  Type of sale  Number of rooms   Area  \\\n",
       "0        apartment  319799.0  regular sale              1.0    NaN   \n",
       "1        apartment  291999.0  regular sale              1.0    NaN   \n",
       "2        apartment  764999.0  regular sale              2.0  153.0   \n",
       "3        apartment  660264.0  regular sale              3.0    NaN   \n",
       "4        apartment  294999.0  regular sale              2.0   80.0   \n",
       "\n",
       "   Fully equipped kitchen  Open fire  Terrace  Garden  Swimming pool  \n",
       "0                     0.0        0.0      1.0     0.0            0.0  \n",
       "1                     0.0        0.0      1.0     0.0            0.0  \n",
       "2                     0.0        0.0      1.0     0.0            0.0  \n",
       "3                     0.0        0.0      1.0     0.0            0.0  \n",
       "4                     0.0        0.0      0.0     0.0            0.0  "
      ]
     },
     "execution_count": 56,
     "metadata": {},
     "output_type": "execute_result"
    }
   ],
   "source": [
    "df.head()"
   ]
  },
  {
   "cell_type": "code",
   "execution_count": 6,
   "id": "0f28cde3",
   "metadata": {},
   "outputs": [
    {
     "data": {
      "text/plain": [
       "Type of property           True\n",
       "Price                     False\n",
       "Type of sale              False\n",
       "Number of rooms            True\n",
       "Area                       True\n",
       "Fully equipped kitchen    False\n",
       "Open fire                 False\n",
       "Terrace                   False\n",
       "Garden                    False\n",
       "Swimming pool             False\n",
       "dtype: bool"
      ]
     },
     "execution_count": 6,
     "metadata": {},
     "output_type": "execute_result"
    }
   ],
   "source": [
    "# data engineering - is null \n",
    "df.isnull().any()"
   ]
  },
  {
   "cell_type": "code",
   "execution_count": 57,
   "id": "dfb79505",
   "metadata": {},
   "outputs": [
    {
     "name": "stdout",
     "output_type": "stream",
     "text": [
      "\n",
      "---- Type of property ----\n",
      "\n",
      "['apartment' nan 'house']\n",
      "\n",
      "---- Type of sale ----\n",
      "\n",
      "['regular sale']\n",
      "\n",
      "---- Number of rooms ----\n",
      "\n",
      "[  1.   2.   3.  18.   4.  nan   5.   6.  10.   7. 125.  14.   9.  32.\n",
      "  12.   8.  16.  19.  35.  11.  15.  13.  50.  20.  25.  24.  21.  30.\n",
      "   0.  47.  66.  22.  36.  40.  41.  34.  17.  28.  46.  63. 165.  27.\n",
      "  99.  70.  37.  80.  39.  38.  90.  33.  23.]\n",
      "\n",
      "---- Area ----\n",
      "\n",
      "[       nan 1.5300e+02 8.0000e+01 9.0000e+01 8.7000e+01 9.5000e+01\n",
      " 1.2500e+02 7.0000e+01 4.7000e+01 6.7000e+01 6.5000e+01 6.0000e+01\n",
      " 1.0000e+02 1.0500e+02 1.1000e+02 8.5000e+01 2.7000e+01 1.0100e+02\n",
      " 9.7000e+01 1.8700e+02 1.0300e+02 1.8300e+02 9.8000e+01 2.2500e+02\n",
      " 1.4000e+02 1.0600e+02 1.0800e+02 1.3000e+02 4.0000e+01 5.0000e+01\n",
      " 7.8000e+01 8.4000e+01 5.5000e+01 1.0700e+02 8.9000e+01 9.2000e+01\n",
      " 1.1500e+02 1.0400e+02 9.1000e+01 9.6000e+01 7.9000e+01 1.7700e+02\n",
      " 6.6000e+01 3.1000e+01 5.3000e+01 8.2000e+01 1.5000e+02 2.8000e+01\n",
      " 6.1000e+01 5.8000e+01 6.3000e+01 5.6000e+01 5.2000e+01 1.1600e+02\n",
      " 5.1000e+01 7.2000e+01 6.8000e+01 3.4800e+02 1.3800e+02 3.1500e+02\n",
      " 1.1800e+02 1.1300e+02 1.2100e+02 7.5000e+01 8.6000e+01 2.0200e+02\n",
      " 8.8000e+01 1.6400e+02 1.6200e+02 1.3400e+02 1.3200e+02 1.2000e+02\n",
      " 3.0300e+02 1.8500e+02 1.4500e+02 1.3500e+02 1.1400e+02 1.2600e+02\n",
      " 1.2900e+02 2.0000e+01 1.9000e+02 3.1300e+02 1.2200e+02 1.3100e+02\n",
      " 3.8000e+01 4.9000e+01 4.6000e+01 3.5000e+01 3.0000e+01 8.1000e+01\n",
      " 3.0000e+02 2.1700e+02 5.4000e+01 6.2000e+01 1.0200e+02 1.1100e+02\n",
      " 8.3000e+01 7.4000e+01 9.9000e+01 1.1900e+02 3.1900e+02 6.4000e+01\n",
      " 1.4900e+02 1.2300e+02 3.1400e+02 4.7100e+02 1.5100e+02 2.1500e+02\n",
      " 3.5000e+02 1.9600e+02 2.0000e+02 3.3800e+02 3.7500e+02 1.2400e+03\n",
      " 2.4200e+02 1.5600e+02 2.8500e+02 1.5500e+02 1.7100e+02 5.7000e+01\n",
      " 1.6800e+02 1.2800e+02 2.3000e+02 1.7000e+02 1.8000e+02 1.5700e+02\n",
      " 1.9800e+02 2.9600e+02 3.8000e+02 2.2700e+02 1.6000e+02 3.2000e+02\n",
      " 6.3500e+02 1.5200e+02 1.7500e+02 3.3000e+01 7.3000e+01 4.5000e+01\n",
      " 1.1200e+02 5.0000e+02 9.4000e+01 7.1000e+01 1.4600e+02 9.3000e+01\n",
      " 6.9000e+01 1.0900e+02 2.6900e+02 2.7900e+02 7.6000e+01 2.2000e+01\n",
      " 1.3700e+02 1.4400e+02 7.7000e+01 2.6600e+02 1.2400e+02 1.6700e+02\n",
      " 1.6600e+02 1.4300e+02 2.2000e+02 2.4000e+02 3.3000e+02 1.4100e+02\n",
      " 2.1100e+02 8.0300e+02 1.6500e+02 4.2000e+02 1.2700e+02 2.5600e+02\n",
      " 6.0000e+02 1.5800e+02 1.3000e+01 2.4000e+01 1.6000e+01 2.5000e+01\n",
      " 3.6000e+01 3.7000e+01 5.9000e+01 1.5000e+01 4.4000e+01 3.9000e+01\n",
      " 2.3000e+01 5.0800e+02 4.3000e+01 1.5400e+02 2.1000e+02 1.3900e+02\n",
      " 3.2000e+01 1.6300e+02 1.6100e+02 1.4200e+02 3.4000e+01 1.8100e+02\n",
      " 2.1800e+02 2.4700e+02 2.0500e+02 1.4700e+02 1.3300e+02 1.3600e+02\n",
      " 2.4600e+02 2.8600e+02 4.8000e+01 4.9500e+02 2.2100e+02 2.5000e+02\n",
      " 1.7000e+01 1.9000e+01 2.1000e+01 5.0700e+02 1.8000e+01 1.7200e+02\n",
      " 3.6500e+02 1.1700e+02 2.1300e+02 7.5000e+02 2.5000e+03 2.8800e+02\n",
      " 1.5900e+02 2.9000e+02 2.1400e+02 3.0500e+02 2.1600e+02 1.7600e+02\n",
      " 2.0300e+02 2.2400e+02 1.9500e+02 1.6900e+02 5.4000e+02 4.4000e+02\n",
      " 4.5000e+02 1.9700e+02 4.0000e+02 2.3900e+02 2.8000e+02 3.3500e+02\n",
      " 2.9700e+02 6.2400e+02 1.7400e+02 2.7800e+02 1.4800e+02 2.2600e+02\n",
      " 2.7100e+02 3.6000e+02 4.2000e+01 4.3300e+02 1.8600e+02 2.6300e+02\n",
      " 2.1200e+02 1.8800e+02 2.7000e+02 2.9800e+02 4.1000e+01 2.6000e+02\n",
      " 2.2900e+02 2.0600e+02 2.3200e+02 1.9100e+02 1.7300e+02 1.8200e+02\n",
      " 1.9900e+02 2.3100e+02 2.2200e+02 2.3800e+02 2.4300e+02 1.9400e+02\n",
      " 2.2800e+02 3.9300e+02 3.9000e+02 1.9200e+02 9.6700e+02 3.2600e+02\n",
      " 1.5000e+03 2.0800e+02 2.6000e+01 1.6120e+03 2.4500e+02 3.4000e+02\n",
      " 1.7900e+02 2.7400e+02 3.3900e+02 3.4500e+02 2.3400e+02 2.0100e+02\n",
      " 3.0800e+02 2.7700e+02 2.6500e+02 5.2000e+02 2.9000e+01 1.8400e+02\n",
      " 1.7800e+02 2.7300e+02 1.8900e+02 4.1000e+02 5.3400e+02 5.1000e+02\n",
      " 3.6800e+02 2.0700e+02 3.3300e+02 6.1000e+02 1.0000e+03 2.8200e+02\n",
      " 3.4200e+02 2.4800e+02 3.1000e+02 2.9500e+02 2.7500e+02 3.3200e+02\n",
      " 3.4300e+02 2.0400e+02 1.0570e+03 3.8100e+02 2.3300e+02 3.2500e+02\n",
      " 3.7400e+02 1.4500e+03 4.7000e+02 4.8000e+02 2.6800e+02 8.0400e+02\n",
      " 3.3700e+02 3.3600e+02 3.2100e+02 3.6200e+02 2.8400e+02 2.5800e+02\n",
      " 1.4000e+03 2.8100e+02 5.2500e+02 2.4900e+02 3.7000e+02 4.1400e+02\n",
      " 3.1600e+02 3.9800e+02 2.3500e+02 2.4100e+02 2.5500e+02 2.4400e+02\n",
      " 2.5300e+02 2.5100e+02 2.5200e+02 1.1580e+03 4.6000e+02 3.2700e+02\n",
      " 4.8500e+02 2.1900e+02 6.7400e+02 3.5700e+02 3.5800e+02 4.4600e+02\n",
      " 5.9100e+02 5.4500e+02 4.2900e+02 1.9300e+02 7.2000e+02 4.7800e+02\n",
      " 3.1100e+02 4.2300e+02 2.9300e+02 7.1600e+02 5.4100e+02 6.3200e+02\n",
      " 3.7300e+02 4.3000e+02 5.9000e+02 8.7600e+02 4.7900e+02 2.0000e+03\n",
      " 4.3500e+02 4.4400e+02 3.5200e+02 3.8500e+02 5.5000e+02 6.5000e+02\n",
      " 4.5500e+02 4.1500e+02 7.5400e+02 4.0600e+02 8.2600e+02 2.9200e+02\n",
      " 3.8200e+02 6.4000e+02 2.2300e+02 5.3000e+02 7.8300e+02 5.6000e+02\n",
      " 1.3330e+03 2.3430e+03 7.6800e+02 1.0100e+03 8.9500e+02 4.6100e+02\n",
      " 8.5000e+02 6.8300e+02 3.2300e+02 6.8000e+02 3.0600e+02 4.4300e+02\n",
      " 3.6600e+02 5.6400e+02 5.7500e+02 4.4500e+02 3.0400e+02 7.3000e+02\n",
      " 4.3400e+02 4.7400e+02 9.0000e+02 2.6000e+03 2.3700e+02 3.1200e+02\n",
      " 5.3100e+02 3.2200e+02 4.0500e+02 4.4200e+02 4.2500e+02 1.0900e+03\n",
      " 5.5500e+02 1.2000e+03 5.8900e+02 1.2500e+03 2.7200e+02 3.0100e+02\n",
      " 3.4700e+02 5.3700e+02 3.4100e+02 4.7700e+02 5.3600e+02 2.3600e+02\n",
      " 8.3500e+02 4.1800e+02 3.3100e+02 1.3800e+03 3.4400e+02 6.6200e+02\n",
      " 2.6200e+02 6.7900e+02 2.9400e+02 3.0200e+02 2.0900e+02 1.8336e+04\n",
      " 4.4900e+02 4.3900e+02 3.6400e+02 5.7000e+02 4.0900e+02 2.6400e+02\n",
      " 1.0000e+00 5.5600e+02 6.4500e+02 4.3800e+02 4.0000e+03 1.0350e+03\n",
      " 4.8400e+02 6.0400e+02 2.5900e+02 3.9500e+02 8.0000e+02 3.8700e+02\n",
      " 6.2000e+02 2.8700e+02 7.6000e+02 1.4250e+03 1.0380e+03 3.9890e+03\n",
      " 3.5500e+02 5.0900e+02 4.8700e+02 1.0200e+03 9.7700e+02 3.3400e+02\n",
      " 5.2300e+02 3.5100e+02 6.3300e+02 4.1900e+02 7.0000e+02 3.9600e+02\n",
      " 3.7100e+02 4.6700e+02 5.5200e+02 6.3000e+02 2.5400e+02 3.7600e+02\n",
      " 3.4900e+02 2.9900e+02 6.6000e+02 4.0200e+02 6.0800e+02 2.8300e+02\n",
      " 5.9500e+02 3.8800e+02 3.1700e+02 4.9000e+02 2.6700e+02 7.7400e+02\n",
      " 1.1000e+03 4.9600e+02 4.7600e+02 2.9100e+02 4.2600e+02 5.2700e+02\n",
      " 9.5000e+02 3.2900e+02 5.7400e+02 3.9200e+02 1.4350e+03 3.6300e+02\n",
      " 2.6100e+02 2.5700e+02 6.4200e+02 4.2200e+02 3.6700e+02 5.1200e+02\n",
      " 4.1100e+02 4.3600e+02 6.7100e+02 3.8400e+02 9.8000e+02 5.8100e+02\n",
      " 7.4200e+02 4.1700e+02 5.2200e+02 5.2400e+02 5.1800e+02 9.5500e+02\n",
      " 8.0000e+00 7.5200e+02 8.3000e+02 4.2800e+02 4.7500e+02 6.4700e+02\n",
      " 3.6100e+02 1.1300e+03 1.6000e+03 8.9300e+02 1.1500e+03 4.6300e+02\n",
      " 3.7800e+02 7.8400e+02 8.8000e+02 3.7900e+02 1.0220e+03 5.5800e+02\n",
      " 4.9400e+02 5.9800e+02 4.9700e+02 1.7500e+03 5.2800e+02 7.2300e+02\n",
      " 3.5900e+02 8.1000e+02 1.3000e+03 1.7000e+03 3.7200e+02 4.0700e+02\n",
      " 3.2400e+02 2.7600e+02 6.9900e+02 4.0300e+02 3.8600e+02 7.0300e+02\n",
      " 5.0200e+02 6.5500e+02 5.8000e+02 3.4600e+02 4.5900e+02 4.4100e+02\n",
      " 8.7200e+02 6.4400e+02 3.7700e+02 3.0900e+02 4.9800e+02 9.6500e+02\n",
      " 5.1100e+02 4.5100e+02 8.4500e+02 4.0800e+02 6.9500e+02 7.1500e+02\n",
      " 3.5400e+02 9.6200e+02 8.4000e+02 1.4420e+03 5.0500e+02 3.8900e+02\n",
      " 3.0700e+02 5.6900e+02 8.6000e+02 8.4300e+02 6.2700e+02 4.0400e+02\n",
      " 4.9900e+02 4.6900e+02 3.9900e+02 5.0400e+02 5.4200e+02 5.8800e+02\n",
      " 8.8500e+02 6.7500e+02 7.8000e+02 7.2200e+02 4.6500e+02 1.9250e+03\n",
      " 6.6500e+02 7.7000e+02 5.7800e+02 4.6400e+02 6.2500e+02 3.9100e+02\n",
      " 4.3700e+02 6.0900e+02 5.7600e+02 9.0900e+02 4.1300e+02 7.5100e+02\n",
      " 4.2100e+02 4.9300e+02 4.3100e+02 6.9300e+02 6.9100e+02 3.2800e+02\n",
      " 5.6200e+02 6.6800e+02 3.6900e+02 1.2750e+03 7.3800e+02 9.7600e+02\n",
      " 7.1000e+02 4.2700e+02 1.5730e+03 3.5600e+02 7.4000e+02 5.1300e+02\n",
      " 4.6600e+02 5.8700e+02 5.4300e+02 6.8200e+02 4.8200e+02 1.0000e+01\n",
      " 2.8900e+02 3.9400e+02 6.1500e+02 7.2600e+02 9.7300e+02 2.4170e+03\n",
      " 5.6800e+02 5.2900e+02 6.4800e+02 5.3900e+02 4.6200e+02 4.9200e+02\n",
      " 7.7500e+02 7.1800e+02 6.5300e+02 6.1900e+02 5.6500e+02 5.4800e+02\n",
      " 8.0500e+02 8.5600e+02 6.7000e+02 4.4700e+02 1.1080e+03 3.1800e+02\n",
      " 4.5200e+02 3.9700e+02 1.6200e+03 4.5400e+02 6.2600e+02 9.1800e+02\n",
      " 6.5700e+02 5.3200e+02 1.6420e+03 4.9100e+02 5.1600e+02 5.9900e+02\n",
      " 8.9800e+02 1.2290e+03 3.5300e+02 6.0300e+02 2.0490e+03 6.9700e+02\n",
      " 8.7000e+02 2.0000e+00 6.0500e+02 7.3500e+02 8.1900e+02 5.8400e+02\n",
      " 3.8300e+02 1.0840e+03 5.8600e+02 9.9000e+02 4.5600e+02 4.3200e+02\n",
      " 6.9000e+02 9.1200e+02 5.9200e+02 5.9600e+02 7.7100e+02 1.2630e+03\n",
      " 9.2800e+02 7.0600e+02 7.8700e+02 8.0800e+02 1.9500e+03 1.0750e+03\n",
      " 1.0080e+03 1.2700e+03 5.1500e+02 4.8100e+02 4.1600e+02 5.0100e+02\n",
      " 8.5800e+02 2.8800e+03 9.0500e+02 5.3300e+02 6.1800e+02 5.6700e+02\n",
      " 4.8300e+02 1.5300e+03 5.3500e+02 4.7200e+02 6.7300e+02 5.6600e+02\n",
      " 6.3700e+02 6.3800e+02 5.1700e+02 4.7300e+02 1.0850e+03 8.8200e+02\n",
      " 5.3800e+02 6.1100e+02 7.3900e+02 7.4500e+02 8.7400e+02 1.1930e+03\n",
      " 9.7000e+02 4.4800e+02 4.8900e+02 1.0150e+03 3.6210e+03 7.2500e+02\n",
      " 6.1400e+02 7.2800e+02 6.0200e+02 6.8700e+02 1.0500e+03 1.2120e+03\n",
      " 1.2520e+03 5.5400e+02 1.4850e+03 5.2600e+02 2.7260e+03 4.0100e+02\n",
      " 1.3500e+03 6.2300e+02 5.1900e+02 4.6800e+02 7.1300e+02 8.0100e+02\n",
      " 2.7280e+03 1.2650e+03 8.4400e+02 1.5740e+03 4.7090e+03 4.2400e+02\n",
      " 6.7700e+02 8.6300e+02 6.6700e+02 6.3100e+02 1.2000e+01 5.9300e+02\n",
      " 1.7460e+03 4.5700e+02 9.7500e+02 5.0000e+00 6.6600e+02 9.6000e+02\n",
      " 7.5800e+02 9.1700e+02 3.5000e+03 7.0700e+02 9.4100e+02 7.6100e+02\n",
      " 5.7200e+02 9.0800e+02 6.6900e+02 7.7300e+02 4.5300e+02 1.1760e+03\n",
      " 8.6500e+02 1.8000e+03 6.4600e+02 5.5100e+02 5.4600e+02 1.9000e+03\n",
      " 6.7200e+02 8.6600e+02 8.0600e+02 7.1700e+02 7.0200e+02 3.6000e+03\n",
      " 7.5500e+05 6.1600e+02 7.5310e+03 1.1750e+03 8.1700e+02 6.9400e+02\n",
      " 6.7800e+02 4.1200e+02 1.2030e+03 6.5200e+02 6.2100e+02 6.5100e+02\n",
      " 6.8600e+02 6.5800e+02 5.4400e+02 1.4000e+01 5.5900e+02 6.3900e+02\n",
      " 6.4100e+02 7.1100e+02 6.0600e+02 5.2100e+02 7.2100e+02 1.3100e+03\n",
      " 2.2000e+03 1.1366e+04 5.6300e+02 8.2500e+02 7.5600e+02 6.0100e+02\n",
      " 5.0600e+02 1.0070e+03 1.1470e+03 1.4700e+03 5.9700e+02 5.9400e+02\n",
      " 4.8600e+02 8.3400e+02 8.4600e+02 7.6500e+02]\n",
      "\n",
      "---- Fully equipped kitchen ----\n",
      "\n",
      "[0. 1.]\n",
      "\n",
      "---- Open fire ----\n",
      "\n",
      "[0. 1.]\n",
      "\n",
      "---- Terrace ----\n",
      "\n",
      "[1. 0.]\n",
      "\n",
      "---- Garden ----\n",
      "\n",
      "[0. 1.]\n",
      "\n",
      "---- Swimming pool ----\n",
      "\n",
      "[0. 1.]\n"
     ]
    }
   ],
   "source": [
    "# examine data of remaining columns \n",
    "for columns in df: \n",
    "    if(len(df[columns].unique()) < 2500): \n",
    "        print(f\"\\n---- {columns} ----\\n\")\n",
    "        print(df[columns].unique())"
   ]
  },
  {
   "cell_type": "code",
   "execution_count": 8,
   "id": "ef4a8567",
   "metadata": {},
   "outputs": [
    {
     "data": {
      "text/plain": [
       "Type of property          False\n",
       "Price                     False\n",
       "Type of sale              False\n",
       "Number of rooms           False\n",
       "Area                      False\n",
       "Fully equipped kitchen    False\n",
       "Open fire                 False\n",
       "Terrace                   False\n",
       "Garden                    False\n",
       "Swimming pool             False\n",
       "dtype: bool"
      ]
     },
     "execution_count": 8,
     "metadata": {},
     "output_type": "execute_result"
    }
   ],
   "source": [
    "# Get rid of nan, delete rows\n",
    "df = df.dropna()\n",
    "df.isnull().any()"
   ]
  },
  {
   "cell_type": "code",
   "execution_count": 9,
   "id": "00d6f10c",
   "metadata": {},
   "outputs": [
    {
     "name": "stdout",
     "output_type": "stream",
     "text": [
      "<class 'pandas.core.frame.DataFrame'>\n",
      "Int64Index: 59306 entries, 2 to 73502\n",
      "Data columns (total 10 columns):\n",
      " #   Column                  Non-Null Count  Dtype  \n",
      "---  ------                  --------------  -----  \n",
      " 0   Type of property        59306 non-null  object \n",
      " 1   Price                   59306 non-null  float64\n",
      " 2   Type of sale            59306 non-null  object \n",
      " 3   Number of rooms         59306 non-null  float64\n",
      " 4   Area                    59306 non-null  float64\n",
      " 5   Fully equipped kitchen  59306 non-null  float64\n",
      " 6   Open fire               59306 non-null  float64\n",
      " 7   Terrace                 59306 non-null  float64\n",
      " 8   Garden                  59306 non-null  float64\n",
      " 9   Swimming pool           59306 non-null  float64\n",
      "dtypes: float64(8), object(2)\n",
      "memory usage: 5.0+ MB\n"
     ]
    }
   ],
   "source": [
    "# Count remaining rows\n",
    "df.info()"
   ]
  },
  {
   "cell_type": "code",
   "execution_count": 10,
   "id": "28e79b22",
   "metadata": {},
   "outputs": [],
   "source": [
    "# get rid of unuseful data for ML\n",
    "df.drop(['Type of property', 'Type of sale'], axis=1, inplace = True)"
   ]
  },
  {
   "cell_type": "code",
   "execution_count": 11,
   "id": "66529fd4",
   "metadata": {},
   "outputs": [
    {
     "data": {
      "text/html": [
       "<div>\n",
       "<style scoped>\n",
       "    .dataframe tbody tr th:only-of-type {\n",
       "        vertical-align: middle;\n",
       "    }\n",
       "\n",
       "    .dataframe tbody tr th {\n",
       "        vertical-align: top;\n",
       "    }\n",
       "\n",
       "    .dataframe thead th {\n",
       "        text-align: right;\n",
       "    }\n",
       "</style>\n",
       "<table border=\"1\" class=\"dataframe\">\n",
       "  <thead>\n",
       "    <tr style=\"text-align: right;\">\n",
       "      <th></th>\n",
       "      <th>Price</th>\n",
       "      <th>Number of rooms</th>\n",
       "      <th>Area</th>\n",
       "      <th>Fully equipped kitchen</th>\n",
       "      <th>Open fire</th>\n",
       "      <th>Terrace</th>\n",
       "      <th>Garden</th>\n",
       "      <th>Swimming pool</th>\n",
       "    </tr>\n",
       "  </thead>\n",
       "  <tbody>\n",
       "    <tr>\n",
       "      <th>2</th>\n",
       "      <td>764999.0</td>\n",
       "      <td>2.0</td>\n",
       "      <td>153.0</td>\n",
       "      <td>0.0</td>\n",
       "      <td>0.0</td>\n",
       "      <td>1.0</td>\n",
       "      <td>0.0</td>\n",
       "      <td>0.0</td>\n",
       "    </tr>\n",
       "    <tr>\n",
       "      <th>4</th>\n",
       "      <td>294999.0</td>\n",
       "      <td>2.0</td>\n",
       "      <td>80.0</td>\n",
       "      <td>0.0</td>\n",
       "      <td>0.0</td>\n",
       "      <td>0.0</td>\n",
       "      <td>0.0</td>\n",
       "      <td>0.0</td>\n",
       "    </tr>\n",
       "    <tr>\n",
       "      <th>6</th>\n",
       "      <td>233999.0</td>\n",
       "      <td>2.0</td>\n",
       "      <td>90.0</td>\n",
       "      <td>0.0</td>\n",
       "      <td>0.0</td>\n",
       "      <td>0.0</td>\n",
       "      <td>0.0</td>\n",
       "      <td>0.0</td>\n",
       "    </tr>\n",
       "    <tr>\n",
       "      <th>7</th>\n",
       "      <td>329899.0</td>\n",
       "      <td>1.0</td>\n",
       "      <td>87.0</td>\n",
       "      <td>0.0</td>\n",
       "      <td>0.0</td>\n",
       "      <td>1.0</td>\n",
       "      <td>0.0</td>\n",
       "      <td>0.0</td>\n",
       "    </tr>\n",
       "    <tr>\n",
       "      <th>9</th>\n",
       "      <td>359899.0</td>\n",
       "      <td>1.0</td>\n",
       "      <td>95.0</td>\n",
       "      <td>0.0</td>\n",
       "      <td>0.0</td>\n",
       "      <td>1.0</td>\n",
       "      <td>0.0</td>\n",
       "      <td>0.0</td>\n",
       "    </tr>\n",
       "    <tr>\n",
       "      <th>...</th>\n",
       "      <td>...</td>\n",
       "      <td>...</td>\n",
       "      <td>...</td>\n",
       "      <td>...</td>\n",
       "      <td>...</td>\n",
       "      <td>...</td>\n",
       "      <td>...</td>\n",
       "      <td>...</td>\n",
       "    </tr>\n",
       "    <tr>\n",
       "      <th>73496</th>\n",
       "      <td>334900.0</td>\n",
       "      <td>3.0</td>\n",
       "      <td>165.0</td>\n",
       "      <td>0.0</td>\n",
       "      <td>0.0</td>\n",
       "      <td>0.0</td>\n",
       "      <td>0.0</td>\n",
       "      <td>0.0</td>\n",
       "    </tr>\n",
       "    <tr>\n",
       "      <th>73497</th>\n",
       "      <td>340500.0</td>\n",
       "      <td>3.0</td>\n",
       "      <td>167.0</td>\n",
       "      <td>0.0</td>\n",
       "      <td>0.0</td>\n",
       "      <td>0.0</td>\n",
       "      <td>0.0</td>\n",
       "      <td>0.0</td>\n",
       "    </tr>\n",
       "    <tr>\n",
       "      <th>73500</th>\n",
       "      <td>307242.0</td>\n",
       "      <td>3.0</td>\n",
       "      <td>150.0</td>\n",
       "      <td>0.0</td>\n",
       "      <td>0.0</td>\n",
       "      <td>0.0</td>\n",
       "      <td>0.0</td>\n",
       "      <td>0.0</td>\n",
       "    </tr>\n",
       "    <tr>\n",
       "      <th>73501</th>\n",
       "      <td>315000.0</td>\n",
       "      <td>3.0</td>\n",
       "      <td>150.0</td>\n",
       "      <td>0.0</td>\n",
       "      <td>0.0</td>\n",
       "      <td>1.0</td>\n",
       "      <td>0.0</td>\n",
       "      <td>0.0</td>\n",
       "    </tr>\n",
       "    <tr>\n",
       "      <th>73502</th>\n",
       "      <td>315000.0</td>\n",
       "      <td>3.0</td>\n",
       "      <td>150.0</td>\n",
       "      <td>0.0</td>\n",
       "      <td>0.0</td>\n",
       "      <td>1.0</td>\n",
       "      <td>0.0</td>\n",
       "      <td>0.0</td>\n",
       "    </tr>\n",
       "  </tbody>\n",
       "</table>\n",
       "<p>59306 rows × 8 columns</p>\n",
       "</div>"
      ],
      "text/plain": [
       "          Price  Number of rooms   Area  Fully equipped kitchen  Open fire  \\\n",
       "2      764999.0              2.0  153.0                     0.0        0.0   \n",
       "4      294999.0              2.0   80.0                     0.0        0.0   \n",
       "6      233999.0              2.0   90.0                     0.0        0.0   \n",
       "7      329899.0              1.0   87.0                     0.0        0.0   \n",
       "9      359899.0              1.0   95.0                     0.0        0.0   \n",
       "...         ...              ...    ...                     ...        ...   \n",
       "73496  334900.0              3.0  165.0                     0.0        0.0   \n",
       "73497  340500.0              3.0  167.0                     0.0        0.0   \n",
       "73500  307242.0              3.0  150.0                     0.0        0.0   \n",
       "73501  315000.0              3.0  150.0                     0.0        0.0   \n",
       "73502  315000.0              3.0  150.0                     0.0        0.0   \n",
       "\n",
       "       Terrace  Garden  Swimming pool  \n",
       "2          1.0     0.0            0.0  \n",
       "4          0.0     0.0            0.0  \n",
       "6          0.0     0.0            0.0  \n",
       "7          1.0     0.0            0.0  \n",
       "9          1.0     0.0            0.0  \n",
       "...        ...     ...            ...  \n",
       "73496      0.0     0.0            0.0  \n",
       "73497      0.0     0.0            0.0  \n",
       "73500      0.0     0.0            0.0  \n",
       "73501      1.0     0.0            0.0  \n",
       "73502      1.0     0.0            0.0  \n",
       "\n",
       "[59306 rows x 8 columns]"
      ]
     },
     "execution_count": 11,
     "metadata": {},
     "output_type": "execute_result"
    }
   ],
   "source": [
    "df"
   ]
  },
  {
   "cell_type": "markdown",
   "id": "5cebbfa2",
   "metadata": {},
   "source": [
    "## Create train, test\n",
    "WARNING \n",
    "- never take outliers before the train set, they are part of the tests values\n",
    "- only clean wrong data, not possible data, error data, etc..\n",
    "- clean outliers in the train data and monitor over/under fitting aftwards"
   ]
  },
  {
   "cell_type": "code",
   "execution_count": 12,
   "id": "12db8954",
   "metadata": {},
   "outputs": [
    {
     "name": "stdout",
     "output_type": "stream",
     "text": [
      "(59306, 7)\n",
      "(59306, 1)\n"
     ]
    }
   ],
   "source": [
    "# create the matrix of x and the y target\n",
    "X = df.iloc[:,1:] \n",
    "y = df.iloc[:,:1] \n",
    "\n",
    "print(X.shape) \n",
    "print(y.shape)\n"
   ]
  },
  {
   "cell_type": "code",
   "execution_count": 13,
   "id": "371c8135",
   "metadata": {},
   "outputs": [
    {
     "data": {
      "text/plain": [
       "41514"
      ]
     },
     "execution_count": 13,
     "metadata": {},
     "output_type": "execute_result"
    }
   ],
   "source": [
    "# split into train and test data\n",
    "from sklearn.model_selection import train_test_split\n",
    "# X_train, X_test, y_train, y_test = train_test_split(X, y, test_size=0.3, random_state=40, stratify = y) # 0,1 class can not be stratified\n",
    "X_train, X_test, y_train, y_test = train_test_split(X, y, test_size=0.3, random_state=40)\n",
    "len(X_train)"
   ]
  },
  {
   "cell_type": "code",
   "execution_count": 14,
   "id": "e11e0069",
   "metadata": {},
   "outputs": [],
   "source": [
    "# measure the accuracy of the train test\n",
    "# .score(X_train, y_train)"
   ]
  },
  {
   "cell_type": "markdown",
   "id": "62f0627e",
   "metadata": {},
   "source": [
    "## Application of ML\n",
    "\n",
    "choosing your model : https://scikit-learn.org/stable/tutorial/machine_learning_map/index.html\n",
    "\n",
    "- multiple regression\n",
    "- polynomial\n",
    "- random forest\n",
    "- xgboost\n",
    "- ridge\n",
    "LATER\n",
    "- libraries cleaning and engineering by themselves\n"
   ]
  },
  {
   "cell_type": "markdown",
   "id": "d9e152f4",
   "metadata": {},
   "source": [
    "### multiple linear regression\n",
    "$$\n",
    "\\begin{bmatrix}\n",
    "y^{(1)}\\\\\n",
    "y^{(2)}\\\\\n",
    "y^{(3)}\\\\\n",
    "... \\\\\n",
    "y^{(m)}\\\\\n",
    "\\end{bmatrix}\n",
    "=\n",
    "\\begin{bmatrix}\n",
    "x^{(1)}_1, x^{(1)}_2, 1\\\\\n",
    "x^{(2)}_1, x^{(2)}_2, 1\\\\\n",
    "x^{(3)}_1, x^{(3)}_2, 1\\\\\n",
    "x^{(m)}_1,x^{(m)}_2,  1\\\\\n",
    "\\end{bmatrix}\n",
    ".\n",
    "\\begin{bmatrix}\n",
    "a\\\\\n",
    "b\\\\\n",
    "c\\\\\n",
    "\\end{bmatrix}\n",
    "$$"
   ]
  },
  {
   "cell_type": "code",
   "execution_count": 15,
   "id": "87d5c49e",
   "metadata": {},
   "outputs": [
    {
     "data": {
      "text/plain": [
       "LinearRegression()"
      ]
     },
     "execution_count": 15,
     "metadata": {},
     "output_type": "execute_result"
    }
   ],
   "source": [
    "# linear regression\n",
    "# with sklearn, no need to add 1 to the matrix\n",
    "from sklearn.linear_model import LinearRegression\n",
    "regressor = LinearRegression()\n",
    "regressor.fit(X_train,y_train)"
   ]
  },
  {
   "cell_type": "code",
   "execution_count": 16,
   "id": "9cf89490",
   "metadata": {},
   "outputs": [
    {
     "data": {
      "text/plain": [
       "0.22322237344384077"
      ]
     },
     "execution_count": 16,
     "metadata": {},
     "output_type": "execute_result"
    }
   ],
   "source": [
    "# performance\n",
    "regressor.score(X_train, y_train)"
   ]
  },
  {
   "cell_type": "code",
   "execution_count": 17,
   "id": "fc8c2032",
   "metadata": {},
   "outputs": [],
   "source": [
    "# visualizing results\n"
   ]
  },
  {
   "cell_type": "code",
   "execution_count": 18,
   "id": "738620e3",
   "metadata": {},
   "outputs": [],
   "source": [
    "# play with number of iterations\n"
   ]
  },
  {
   "cell_type": "code",
   "execution_count": 19,
   "id": "5c87e8e8",
   "metadata": {},
   "outputs": [],
   "source": [
    "# calculate overfitting and underfitting\n"
   ]
  },
  {
   "cell_type": "markdown",
   "id": "18a24998",
   "metadata": {},
   "source": [
    "### polynomial\n",
    "$$ X =\n",
    "\\begin{bmatrix}\n",
    "x^{(1)}_1, x^{(1)2}_2, ..., x^{(m)k}_{n}, 1\\\\\n",
    "x^{(2)}_1, x^{(2)2}_2, ..., x^{(m)k}_{n}, 1\\\\\n",
    "x^{(3)}_1, x^{(3)2}_2, ..., x^{(m)k}_{n}, 1\\\\\n",
    "x^{(m)}_1,x^{(m)k}_2, ..., x^{(m)k}_{n}, 1\\\\\n",
    "\\end{bmatrix}\n",
    "$$\n",
    "is it applicable here ?"
   ]
  },
  {
   "cell_type": "code",
   "execution_count": 20,
   "id": "3b4e5e71",
   "metadata": {},
   "outputs": [],
   "source": [
    "# multiple linear regression using SciKitLearn\n"
   ]
  },
  {
   "cell_type": "markdown",
   "id": "f0c5bb7c",
   "metadata": {},
   "source": [
    "## XGboost\n",
    "\n",
    "INSTALL package via conda install xgboost\n",
    "\n",
    "TODO to be used only with 0.5+ score ?\n"
   ]
  },
  {
   "cell_type": "code",
   "execution_count": 21,
   "id": "00f0b9e0",
   "metadata": {},
   "outputs": [
    {
     "data": {
      "text/plain": [
       "XGBRegressor(base_score=0.5, booster='gbtree', colsample_bylevel=1,\n",
       "             colsample_bynode=1, colsample_bytree=1, gamma=0, gpu_id=-1,\n",
       "             importance_type='gain', interaction_constraints='',\n",
       "             learning_rate=0.300000012, max_delta_step=0, max_depth=6,\n",
       "             min_child_weight=1, missing=nan, monotone_constraints='()',\n",
       "             n_estimators=100, n_jobs=8, num_parallel_tree=1, random_state=0,\n",
       "             reg_alpha=0, reg_lambda=1, scale_pos_weight=1, subsample=1,\n",
       "             tree_method='exact', validate_parameters=1, verbosity=None)"
      ]
     },
     "execution_count": 21,
     "metadata": {},
     "output_type": "execute_result"
    }
   ],
   "source": [
    "from xgboost import XGBRegressor\n",
    "my_model = XGBRegressor()\n",
    "# Add silent=True to avoid printing out updates with each cycle\n",
    "my_model.fit(X_train, y_train, verbose=False)"
   ]
  },
  {
   "cell_type": "code",
   "execution_count": 26,
   "id": "fc349c31",
   "metadata": {},
   "outputs": [
    {
     "name": "stdout",
     "output_type": "stream",
     "text": [
      "Mean Absolute Error : 136338.05219779254\n"
     ]
    },
    {
     "data": {
      "text/plain": [
       "0.507525855860931"
      ]
     },
     "execution_count": 26,
     "metadata": {},
     "output_type": "execute_result"
    }
   ],
   "source": [
    "# make predictions\n",
    "predictions = my_model.predict(X_test)\n",
    "\n",
    "from sklearn.metrics import mean_absolute_error\n",
    "print(\"Mean Absolute Error : \" + str(mean_absolute_error(predictions, y_test)))\n",
    "my_model.score(X_test, y_test)"
   ]
  },
  {
   "cell_type": "code",
   "execution_count": 23,
   "id": "68f2d062",
   "metadata": {},
   "outputs": [
    {
     "data": {
      "text/plain": [
       "XGBRegressor(base_score=0.5, booster='gbtree', colsample_bylevel=1,\n",
       "             colsample_bynode=1, colsample_bytree=1, gamma=0, gpu_id=-1,\n",
       "             importance_type='gain', interaction_constraints='',\n",
       "             learning_rate=0.300000012, max_delta_step=0, max_depth=6,\n",
       "             min_child_weight=1, missing=nan, monotone_constraints='()',\n",
       "             n_estimators=1000, n_jobs=8, num_parallel_tree=1, random_state=0,\n",
       "             reg_alpha=0, reg_lambda=1, scale_pos_weight=1, subsample=1,\n",
       "             tree_method='exact', validate_parameters=1, verbosity=None)"
      ]
     },
     "execution_count": 23,
     "metadata": {},
     "output_type": "execute_result"
    }
   ],
   "source": [
    "# finetuning the model\n",
    "my_model = XGBRegressor(n_estimators=1000)\n",
    "my_model.fit(X_train, y_train, early_stopping_rounds=50, \n",
    "             eval_set=[(X_test, y_test)], verbose=False)"
   ]
  },
  {
   "cell_type": "code",
   "execution_count": 24,
   "id": "c7bf8ce7",
   "metadata": {},
   "outputs": [
    {
     "name": "stdout",
     "output_type": "stream",
     "text": [
      "Mean Absolute Error : 136338.05219779254\n"
     ]
    }
   ],
   "source": [
    "# make predictions\n",
    "predictions = my_model.predict(X_test)\n",
    "\n",
    "from sklearn.metrics import mean_absolute_error\n",
    "print(\"Mean Absolute Error : \" + str(mean_absolute_error(predictions, y_test)))"
   ]
  },
  {
   "cell_type": "code",
   "execution_count": 25,
   "id": "4a8a8ce5",
   "metadata": {},
   "outputs": [
    {
     "data": {
      "text/plain": [
       "0.507525855860931"
      ]
     },
     "execution_count": 25,
     "metadata": {},
     "output_type": "execute_result"
    }
   ],
   "source": [
    "# mesure performance\n",
    "my_model.score(X_test, y_test)"
   ]
  },
  {
   "cell_type": "code",
   "execution_count": null,
   "id": "f5602a95",
   "metadata": {},
   "outputs": [],
   "source": []
  }
 ],
 "metadata": {
  "kernelspec": {
   "display_name": "Python 3",
   "language": "python",
   "name": "python3"
  },
  "language_info": {
   "codemirror_mode": {
    "name": "ipython",
    "version": 3
   },
   "file_extension": ".py",
   "mimetype": "text/x-python",
   "name": "python",
   "nbconvert_exporter": "python",
   "pygments_lexer": "ipython3",
   "version": "3.8.8"
  }
 },
 "nbformat": 4,
 "nbformat_minor": 5
}
