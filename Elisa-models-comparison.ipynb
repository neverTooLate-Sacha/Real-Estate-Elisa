{
 "cells": [
  {
   "cell_type": "markdown",
   "id": "382cddfa",
   "metadata": {},
   "source": [
    "# Elisa real estate, finding a model\n",
    "\n",
    "Source: https://raw.githubusercontent.com/JulienAlardot/challenge-collecting-data/main/Data/database.csv\n",
    "\n",
    "Libraries :\n",
    "OneHotencoding\n",
    "XGboost\n",
    "Lasso\n",
    "Ridge\n",
    "Random forest\n",
    "sklearn.preprocessing.LabelEncoder\n",
    "\n",
    "Expected result: compare the prediction performance of the models, create best simulation and prediction"
   ]
  },
  {
   "cell_type": "code",
   "execution_count": 1,
   "id": "79ba7c28",
   "metadata": {},
   "outputs": [
    {
     "data": {
      "text/html": [
       "<div>\n",
       "<style scoped>\n",
       "    .dataframe tbody tr th:only-of-type {\n",
       "        vertical-align: middle;\n",
       "    }\n",
       "\n",
       "    .dataframe tbody tr th {\n",
       "        vertical-align: top;\n",
       "    }\n",
       "\n",
       "    .dataframe thead th {\n",
       "        text-align: right;\n",
       "    }\n",
       "</style>\n",
       "<table border=\"1\" class=\"dataframe\">\n",
       "  <thead>\n",
       "    <tr style=\"text-align: right;\">\n",
       "      <th></th>\n",
       "      <th>Url</th>\n",
       "      <th>Source</th>\n",
       "      <th>Locality</th>\n",
       "      <th>Type of property</th>\n",
       "      <th>Subtype of property</th>\n",
       "      <th>Price</th>\n",
       "      <th>Type of sale</th>\n",
       "      <th>Number of rooms</th>\n",
       "      <th>Area</th>\n",
       "      <th>Fully equipped kitchen</th>\n",
       "      <th>...</th>\n",
       "      <th>Terrace Area</th>\n",
       "      <th>Garden</th>\n",
       "      <th>Garden Area</th>\n",
       "      <th>Surface of the land</th>\n",
       "      <th>Surface area of the plot of land</th>\n",
       "      <th>Number of facades</th>\n",
       "      <th>Swimming pool</th>\n",
       "      <th>State of the building</th>\n",
       "      <th>Province</th>\n",
       "      <th>Region</th>\n",
       "    </tr>\n",
       "  </thead>\n",
       "  <tbody>\n",
       "    <tr>\n",
       "      <th>0</th>\n",
       "      <td>https://www.logic-immo.be/fr/vente/appartement...</td>\n",
       "      <td>logic-immo.be</td>\n",
       "      <td>2970</td>\n",
       "      <td>apartment</td>\n",
       "      <td>NaN</td>\n",
       "      <td>319799.0</td>\n",
       "      <td>regular sale</td>\n",
       "      <td>1.0</td>\n",
       "      <td>NaN</td>\n",
       "      <td>0.0</td>\n",
       "      <td>...</td>\n",
       "      <td>11.0</td>\n",
       "      <td>0.0</td>\n",
       "      <td>NaN</td>\n",
       "      <td>NaN</td>\n",
       "      <td>NaN</td>\n",
       "      <td>NaN</td>\n",
       "      <td>0.0</td>\n",
       "      <td>NaN</td>\n",
       "      <td>Antwerp</td>\n",
       "      <td>Vlaams</td>\n",
       "    </tr>\n",
       "    <tr>\n",
       "      <th>1</th>\n",
       "      <td>https://www.logic-immo.be/fr/vente/appartement...</td>\n",
       "      <td>logic-immo.be</td>\n",
       "      <td>2970</td>\n",
       "      <td>apartment</td>\n",
       "      <td>NaN</td>\n",
       "      <td>291999.0</td>\n",
       "      <td>regular sale</td>\n",
       "      <td>1.0</td>\n",
       "      <td>NaN</td>\n",
       "      <td>0.0</td>\n",
       "      <td>...</td>\n",
       "      <td>6.0</td>\n",
       "      <td>0.0</td>\n",
       "      <td>NaN</td>\n",
       "      <td>NaN</td>\n",
       "      <td>NaN</td>\n",
       "      <td>NaN</td>\n",
       "      <td>0.0</td>\n",
       "      <td>NaN</td>\n",
       "      <td>Antwerp</td>\n",
       "      <td>Vlaams</td>\n",
       "    </tr>\n",
       "    <tr>\n",
       "      <th>2</th>\n",
       "      <td>https://www.logic-immo.be/fr/vente/appartement...</td>\n",
       "      <td>logic-immo.be</td>\n",
       "      <td>2970</td>\n",
       "      <td>apartment</td>\n",
       "      <td>NaN</td>\n",
       "      <td>764999.0</td>\n",
       "      <td>regular sale</td>\n",
       "      <td>2.0</td>\n",
       "      <td>153.0</td>\n",
       "      <td>0.0</td>\n",
       "      <td>...</td>\n",
       "      <td>62.0</td>\n",
       "      <td>0.0</td>\n",
       "      <td>NaN</td>\n",
       "      <td>NaN</td>\n",
       "      <td>NaN</td>\n",
       "      <td>NaN</td>\n",
       "      <td>0.0</td>\n",
       "      <td>NaN</td>\n",
       "      <td>Antwerp</td>\n",
       "      <td>Vlaams</td>\n",
       "    </tr>\n",
       "    <tr>\n",
       "      <th>3</th>\n",
       "      <td>https://www.logic-immo.be/fr/vente/appartement...</td>\n",
       "      <td>logic-immo.be</td>\n",
       "      <td>2970</td>\n",
       "      <td>apartment</td>\n",
       "      <td>NaN</td>\n",
       "      <td>660264.0</td>\n",
       "      <td>regular sale</td>\n",
       "      <td>3.0</td>\n",
       "      <td>NaN</td>\n",
       "      <td>0.0</td>\n",
       "      <td>...</td>\n",
       "      <td>160.0</td>\n",
       "      <td>0.0</td>\n",
       "      <td>NaN</td>\n",
       "      <td>NaN</td>\n",
       "      <td>NaN</td>\n",
       "      <td>NaN</td>\n",
       "      <td>0.0</td>\n",
       "      <td>NaN</td>\n",
       "      <td>Antwerp</td>\n",
       "      <td>Vlaams</td>\n",
       "    </tr>\n",
       "  </tbody>\n",
       "</table>\n",
       "<p>4 rows × 23 columns</p>\n",
       "</div>"
      ],
      "text/plain": [
       "                                                 Url         Source  Locality  \\\n",
       "0  https://www.logic-immo.be/fr/vente/appartement...  logic-immo.be      2970   \n",
       "1  https://www.logic-immo.be/fr/vente/appartement...  logic-immo.be      2970   \n",
       "2  https://www.logic-immo.be/fr/vente/appartement...  logic-immo.be      2970   \n",
       "3  https://www.logic-immo.be/fr/vente/appartement...  logic-immo.be      2970   \n",
       "\n",
       "  Type of property Subtype of property     Price  Type of sale  \\\n",
       "0        apartment                 NaN  319799.0  regular sale   \n",
       "1        apartment                 NaN  291999.0  regular sale   \n",
       "2        apartment                 NaN  764999.0  regular sale   \n",
       "3        apartment                 NaN  660264.0  regular sale   \n",
       "\n",
       "   Number of rooms   Area  Fully equipped kitchen  ...  Terrace Area  Garden  \\\n",
       "0              1.0    NaN                     0.0  ...          11.0     0.0   \n",
       "1              1.0    NaN                     0.0  ...           6.0     0.0   \n",
       "2              2.0  153.0                     0.0  ...          62.0     0.0   \n",
       "3              3.0    NaN                     0.0  ...         160.0     0.0   \n",
       "\n",
       "   Garden Area  Surface of the land  Surface area of the plot of land  \\\n",
       "0          NaN                  NaN                               NaN   \n",
       "1          NaN                  NaN                               NaN   \n",
       "2          NaN                  NaN                               NaN   \n",
       "3          NaN                  NaN                               NaN   \n",
       "\n",
       "   Number of facades  Swimming pool  State of the building  Province  Region  \n",
       "0                NaN            0.0                    NaN   Antwerp  Vlaams  \n",
       "1                NaN            0.0                    NaN   Antwerp  Vlaams  \n",
       "2                NaN            0.0                    NaN   Antwerp  Vlaams  \n",
       "3                NaN            0.0                    NaN   Antwerp  Vlaams  \n",
       "\n",
       "[4 rows x 23 columns]"
      ]
     },
     "execution_count": 1,
     "metadata": {},
     "output_type": "execute_result"
    }
   ],
   "source": [
    "import pandas as pd\n",
    "import numpy as np\n",
    "from matplotlib import pyplot as plt\n",
    "%matplotlib inline\n",
    "import seaborn as sns\n",
    "df = pd.read_csv('./data/may.csv', index_col=0)\n",
    "df.head(4)"
   ]
  },
  {
   "cell_type": "markdown",
   "id": "fddfbacc",
   "metadata": {},
   "source": [
    "## Data cleaning\n",
    "\n",
    " - Existence of duplicated columns ?\n",
    " - Get rid of title column ? not needed -> np.array\n",
    " - Remove URL column which is there for debugging purpose\n",
    " - Remove columns with missing values with threshold more than 80% Nan or equivalent\n",
    " - Check if the type of data is homogenous per column if not clean, check unique\n",
    " - Check abnomalies and outliers\n",
    " "
   ]
  },
  {
   "cell_type": "code",
   "execution_count": 2,
   "id": "5a83fc69",
   "metadata": {},
   "outputs": [],
   "source": [
    "# get rid of unuseful data for ML\n",
    "df.drop(['Url', 'Source', 'Locality','Province', 'Region'], axis=1, inplace = True)"
   ]
  },
  {
   "cell_type": "code",
   "execution_count": 3,
   "id": "4547b611",
   "metadata": {},
   "outputs": [],
   "source": [
    "# df.duplicated().any() \n",
    "df.drop_duplicates(keep = 'first', inplace=True)"
   ]
  },
  {
   "cell_type": "code",
   "execution_count": 4,
   "id": "482cc3d4",
   "metadata": {},
   "outputs": [],
   "source": [
    "# get rid of columns with less than 20% data\n",
    "df.dropna(thresh=len(df)*0.8, axis='columns', inplace = True)"
   ]
  },
  {
   "cell_type": "code",
   "execution_count": 5,
   "id": "93ddd7e5",
   "metadata": {},
   "outputs": [],
   "source": [
    "# get rid of outliers\n",
    "# df.sort_values(by='Price', ascending = False).head(4)\n",
    "df = df[(df.Price >= 50000) & (df.Price <= 10000000)] "
   ]
  },
  {
   "cell_type": "code",
   "execution_count": 6,
   "id": "0f28cde3",
   "metadata": {},
   "outputs": [
    {
     "data": {
      "text/plain": [
       "Type of property           True\n",
       "Price                     False\n",
       "Type of sale              False\n",
       "Number of rooms            True\n",
       "Area                       True\n",
       "Fully equipped kitchen    False\n",
       "Open fire                 False\n",
       "Terrace                   False\n",
       "Garden                    False\n",
       "Swimming pool             False\n",
       "dtype: bool"
      ]
     },
     "execution_count": 6,
     "metadata": {},
     "output_type": "execute_result"
    }
   ],
   "source": [
    "# data engineering - is null \n",
    "df.isnull().any()"
   ]
  },
  {
   "cell_type": "code",
   "execution_count": 7,
   "id": "b1e41e0f",
   "metadata": {},
   "outputs": [
    {
     "name": "stdout",
     "output_type": "stream",
     "text": [
      "['apartment' nan 'house']\n",
      "['regular sale' 'public sale']\n",
      "[  1.   2.   3.  18.   4.  nan   5.   6.  10.   7. 125.  14.   9.  32.\n",
      "  12.   8.  16.  19.  35.  11.  15.  13.  50.  20.  25.  24.  21.  30.\n",
      "   0.  47.  66.  22.  36.  40.  41.  34.  17.  28.  46.  63. 165.  27.\n",
      "  99.  70.  37.  80.  39.  38.  90.  33.  23.]\n",
      "[0. 1.]\n",
      "[0. 1.]\n",
      "[1. 0.]\n",
      "[0. 1.]\n",
      "[0. 1.]\n"
     ]
    },
    {
     "data": {
      "text/plain": [
       "Index(['Type of property', 'Price', 'Type of sale', 'Number of rooms', 'Area',\n",
       "       'Fully equipped kitchen', 'Open fire', 'Terrace', 'Garden',\n",
       "       'Swimming pool'],\n",
       "      dtype='object')"
      ]
     },
     "execution_count": 7,
     "metadata": {},
     "output_type": "execute_result"
    }
   ],
   "source": [
    "# examine data of remaining columns \n",
    "for columns in df: \n",
    "    if(len(df[columns].unique()) < 200): \n",
    "        print(df[columns].unique())\n",
    "df.columns"
   ]
  },
  {
   "cell_type": "code",
   "execution_count": 8,
   "id": "34b0dc2f",
   "metadata": {},
   "outputs": [
    {
     "data": {
      "text/plain": [
       "Type of property          False\n",
       "Price                     False\n",
       "Type of sale              False\n",
       "Number of rooms           False\n",
       "Area                      False\n",
       "Fully equipped kitchen    False\n",
       "Open fire                 False\n",
       "Terrace                   False\n",
       "Garden                    False\n",
       "Swimming pool             False\n",
       "dtype: bool"
      ]
     },
     "execution_count": 8,
     "metadata": {},
     "output_type": "execute_result"
    }
   ],
   "source": [
    "# Get rid of nan, delete rows\n",
    "df = df.dropna()\n",
    "df.isnull().any()"
   ]
  },
  {
   "cell_type": "code",
   "execution_count": 9,
   "id": "5392da42",
   "metadata": {},
   "outputs": [
    {
     "name": "stdout",
     "output_type": "stream",
     "text": [
      "<class 'pandas.core.frame.DataFrame'>\n",
      "Int64Index: 59306 entries, 2 to 73502\n",
      "Data columns (total 10 columns):\n",
      " #   Column                  Non-Null Count  Dtype  \n",
      "---  ------                  --------------  -----  \n",
      " 0   Type of property        59306 non-null  object \n",
      " 1   Price                   59306 non-null  float64\n",
      " 2   Type of sale            59306 non-null  object \n",
      " 3   Number of rooms         59306 non-null  float64\n",
      " 4   Area                    59306 non-null  float64\n",
      " 5   Fully equipped kitchen  59306 non-null  float64\n",
      " 6   Open fire               59306 non-null  float64\n",
      " 7   Terrace                 59306 non-null  float64\n",
      " 8   Garden                  59306 non-null  float64\n",
      " 9   Swimming pool           59306 non-null  float64\n",
      "dtypes: float64(8), object(2)\n",
      "memory usage: 5.0+ MB\n"
     ]
    }
   ],
   "source": [
    "# Count remaining rows\n",
    "df.info()"
   ]
  },
  {
   "cell_type": "code",
   "execution_count": 10,
   "id": "a0a8787a",
   "metadata": {},
   "outputs": [],
   "source": [
    "# get rid of unuseful data for ML\n",
    "df.drop(['Type of property', 'Type of sale'], axis=1, inplace = True)"
   ]
  },
  {
   "cell_type": "code",
   "execution_count": 11,
   "id": "fc784432",
   "metadata": {},
   "outputs": [
    {
     "data": {
      "text/html": [
       "<div>\n",
       "<style scoped>\n",
       "    .dataframe tbody tr th:only-of-type {\n",
       "        vertical-align: middle;\n",
       "    }\n",
       "\n",
       "    .dataframe tbody tr th {\n",
       "        vertical-align: top;\n",
       "    }\n",
       "\n",
       "    .dataframe thead th {\n",
       "        text-align: right;\n",
       "    }\n",
       "</style>\n",
       "<table border=\"1\" class=\"dataframe\">\n",
       "  <thead>\n",
       "    <tr style=\"text-align: right;\">\n",
       "      <th></th>\n",
       "      <th>Price</th>\n",
       "      <th>Number of rooms</th>\n",
       "      <th>Area</th>\n",
       "      <th>Fully equipped kitchen</th>\n",
       "      <th>Open fire</th>\n",
       "      <th>Terrace</th>\n",
       "      <th>Garden</th>\n",
       "      <th>Swimming pool</th>\n",
       "    </tr>\n",
       "  </thead>\n",
       "  <tbody>\n",
       "    <tr>\n",
       "      <th>2</th>\n",
       "      <td>764999.0</td>\n",
       "      <td>2.0</td>\n",
       "      <td>153.0</td>\n",
       "      <td>0.0</td>\n",
       "      <td>0.0</td>\n",
       "      <td>1.0</td>\n",
       "      <td>0.0</td>\n",
       "      <td>0.0</td>\n",
       "    </tr>\n",
       "    <tr>\n",
       "      <th>4</th>\n",
       "      <td>294999.0</td>\n",
       "      <td>2.0</td>\n",
       "      <td>80.0</td>\n",
       "      <td>0.0</td>\n",
       "      <td>0.0</td>\n",
       "      <td>0.0</td>\n",
       "      <td>0.0</td>\n",
       "      <td>0.0</td>\n",
       "    </tr>\n",
       "    <tr>\n",
       "      <th>6</th>\n",
       "      <td>233999.0</td>\n",
       "      <td>2.0</td>\n",
       "      <td>90.0</td>\n",
       "      <td>0.0</td>\n",
       "      <td>0.0</td>\n",
       "      <td>0.0</td>\n",
       "      <td>0.0</td>\n",
       "      <td>0.0</td>\n",
       "    </tr>\n",
       "    <tr>\n",
       "      <th>7</th>\n",
       "      <td>329899.0</td>\n",
       "      <td>1.0</td>\n",
       "      <td>87.0</td>\n",
       "      <td>0.0</td>\n",
       "      <td>0.0</td>\n",
       "      <td>1.0</td>\n",
       "      <td>0.0</td>\n",
       "      <td>0.0</td>\n",
       "    </tr>\n",
       "    <tr>\n",
       "      <th>9</th>\n",
       "      <td>359899.0</td>\n",
       "      <td>1.0</td>\n",
       "      <td>95.0</td>\n",
       "      <td>0.0</td>\n",
       "      <td>0.0</td>\n",
       "      <td>1.0</td>\n",
       "      <td>0.0</td>\n",
       "      <td>0.0</td>\n",
       "    </tr>\n",
       "    <tr>\n",
       "      <th>...</th>\n",
       "      <td>...</td>\n",
       "      <td>...</td>\n",
       "      <td>...</td>\n",
       "      <td>...</td>\n",
       "      <td>...</td>\n",
       "      <td>...</td>\n",
       "      <td>...</td>\n",
       "      <td>...</td>\n",
       "    </tr>\n",
       "    <tr>\n",
       "      <th>73496</th>\n",
       "      <td>334900.0</td>\n",
       "      <td>3.0</td>\n",
       "      <td>165.0</td>\n",
       "      <td>0.0</td>\n",
       "      <td>0.0</td>\n",
       "      <td>0.0</td>\n",
       "      <td>0.0</td>\n",
       "      <td>0.0</td>\n",
       "    </tr>\n",
       "    <tr>\n",
       "      <th>73497</th>\n",
       "      <td>340500.0</td>\n",
       "      <td>3.0</td>\n",
       "      <td>167.0</td>\n",
       "      <td>0.0</td>\n",
       "      <td>0.0</td>\n",
       "      <td>0.0</td>\n",
       "      <td>0.0</td>\n",
       "      <td>0.0</td>\n",
       "    </tr>\n",
       "    <tr>\n",
       "      <th>73500</th>\n",
       "      <td>307242.0</td>\n",
       "      <td>3.0</td>\n",
       "      <td>150.0</td>\n",
       "      <td>0.0</td>\n",
       "      <td>0.0</td>\n",
       "      <td>0.0</td>\n",
       "      <td>0.0</td>\n",
       "      <td>0.0</td>\n",
       "    </tr>\n",
       "    <tr>\n",
       "      <th>73501</th>\n",
       "      <td>315000.0</td>\n",
       "      <td>3.0</td>\n",
       "      <td>150.0</td>\n",
       "      <td>0.0</td>\n",
       "      <td>0.0</td>\n",
       "      <td>1.0</td>\n",
       "      <td>0.0</td>\n",
       "      <td>0.0</td>\n",
       "    </tr>\n",
       "    <tr>\n",
       "      <th>73502</th>\n",
       "      <td>315000.0</td>\n",
       "      <td>3.0</td>\n",
       "      <td>150.0</td>\n",
       "      <td>0.0</td>\n",
       "      <td>0.0</td>\n",
       "      <td>1.0</td>\n",
       "      <td>0.0</td>\n",
       "      <td>0.0</td>\n",
       "    </tr>\n",
       "  </tbody>\n",
       "</table>\n",
       "<p>59306 rows × 8 columns</p>\n",
       "</div>"
      ],
      "text/plain": [
       "          Price  Number of rooms   Area  Fully equipped kitchen  Open fire  \\\n",
       "2      764999.0              2.0  153.0                     0.0        0.0   \n",
       "4      294999.0              2.0   80.0                     0.0        0.0   \n",
       "6      233999.0              2.0   90.0                     0.0        0.0   \n",
       "7      329899.0              1.0   87.0                     0.0        0.0   \n",
       "9      359899.0              1.0   95.0                     0.0        0.0   \n",
       "...         ...              ...    ...                     ...        ...   \n",
       "73496  334900.0              3.0  165.0                     0.0        0.0   \n",
       "73497  340500.0              3.0  167.0                     0.0        0.0   \n",
       "73500  307242.0              3.0  150.0                     0.0        0.0   \n",
       "73501  315000.0              3.0  150.0                     0.0        0.0   \n",
       "73502  315000.0              3.0  150.0                     0.0        0.0   \n",
       "\n",
       "       Terrace  Garden  Swimming pool  \n",
       "2          1.0     0.0            0.0  \n",
       "4          0.0     0.0            0.0  \n",
       "6          0.0     0.0            0.0  \n",
       "7          1.0     0.0            0.0  \n",
       "9          1.0     0.0            0.0  \n",
       "...        ...     ...            ...  \n",
       "73496      0.0     0.0            0.0  \n",
       "73497      0.0     0.0            0.0  \n",
       "73500      0.0     0.0            0.0  \n",
       "73501      1.0     0.0            0.0  \n",
       "73502      1.0     0.0            0.0  \n",
       "\n",
       "[59306 rows x 8 columns]"
      ]
     },
     "execution_count": 11,
     "metadata": {},
     "output_type": "execute_result"
    }
   ],
   "source": [
    "df"
   ]
  },
  {
   "cell_type": "markdown",
   "id": "1d988436",
   "metadata": {},
   "source": [
    "## Create train, test\n",
    "WARNING \n",
    "- never take outliers before the train set, they are part of the tests values\n",
    "- only clean wrong data, not possible data, error data, etc..\n",
    "- clean outliers in the train data and monitor over/under fitting aftwards"
   ]
  },
  {
   "cell_type": "code",
   "execution_count": 12,
   "id": "f46dc85c",
   "metadata": {},
   "outputs": [
    {
     "name": "stdout",
     "output_type": "stream",
     "text": [
      "(59306, 7)\n",
      "(59306, 1)\n"
     ]
    }
   ],
   "source": [
    "# create the matrix of x and the y target\n",
    "X = df.iloc[:,1:] \n",
    "y = df.iloc[:,:1] \n",
    "\n",
    "print(X.shape) \n",
    "print(y.shape)\n"
   ]
  },
  {
   "cell_type": "code",
   "execution_count": 15,
   "id": "8163ea72",
   "metadata": {},
   "outputs": [
    {
     "data": {
      "text/plain": [
       "41514"
      ]
     },
     "execution_count": 15,
     "metadata": {},
     "output_type": "execute_result"
    }
   ],
   "source": [
    "# split into train and test data\n",
    "from sklearn.model_selection import train_test_split\n",
    "# X_train, X_test, y_train, y_test = train_test_split(X, y, test_size=0.3, random_state=40, stratify = y) # 0,1 class can not be stratified\n",
    "X_train, X_test, y_train, y_test = train_test_split(X, y, test_size=0.3, random_state=40)\n",
    "len(X_train)"
   ]
  },
  {
   "cell_type": "code",
   "execution_count": 17,
   "id": "d7f004e2",
   "metadata": {},
   "outputs": [],
   "source": [
    "# measure the accuracy of the train test\n",
    "# .score(X_train, y_train)"
   ]
  },
  {
   "cell_type": "markdown",
   "id": "e0d54b56",
   "metadata": {},
   "source": [
    "## Application of ML\n",
    "\n",
    "- multiple regression\n",
    "- polynomial\n",
    "- random forest\n",
    "- xgboost\n",
    "- ridge\n",
    "LATER\n",
    "- libraries cleaning and engineering by themselves\n"
   ]
  },
  {
   "cell_type": "markdown",
   "id": "7a66a9cb",
   "metadata": {},
   "source": [
    "### multiple linear regression\n",
    "$$\n",
    "\\begin{bmatrix}\n",
    "y^{(1)}\\\\\n",
    "y^{(2)}\\\\\n",
    "y^{(3)}\\\\\n",
    "... \\\\\n",
    "y^{(m)}\\\\\n",
    "\\end{bmatrix}\n",
    "=\n",
    "\\begin{bmatrix}\n",
    "x^{(1)}_1, x^{(1)}_2, 1\\\\\n",
    "x^{(2)}_1, x^{(2)}_2, 1\\\\\n",
    "x^{(3)}_1, x^{(3)}_2, 1\\\\\n",
    "x^{(m)}_1,x^{(m)}_2,  1\\\\\n",
    "\\end{bmatrix}\n",
    ".\n",
    "\\begin{bmatrix}\n",
    "a\\\\\n",
    "b\\\\\n",
    "c\\\\\n",
    "\\end{bmatrix}\n",
    "$$"
   ]
  },
  {
   "cell_type": "code",
   "execution_count": null,
   "id": "43ce0e83",
   "metadata": {},
   "outputs": [],
   "source": [
    "# linear regression\n",
    "# with sklearn, no need to add 1 to the matrix\n",
    "from sklearn.linear_model import LinearRegression\n",
    "regressor = LinearRegression()\n",
    "regressor.fit(X_train,y_train)"
   ]
  },
  {
   "cell_type": "code",
   "execution_count": null,
   "id": "da4c70d5",
   "metadata": {},
   "outputs": [],
   "source": [
    "# performance\n",
    "regressor.score(X_train, y_train)"
   ]
  },
  {
   "cell_type": "code",
   "execution_count": null,
   "id": "3fd231bc",
   "metadata": {},
   "outputs": [],
   "source": [
    "# visualizing results\n"
   ]
  },
  {
   "cell_type": "code",
   "execution_count": null,
   "id": "764f2168",
   "metadata": {},
   "outputs": [],
   "source": [
    "# play with number of iterations\n"
   ]
  },
  {
   "cell_type": "code",
   "execution_count": null,
   "id": "31293d38",
   "metadata": {},
   "outputs": [],
   "source": [
    "# calculate overfitting and underfitting\n"
   ]
  },
  {
   "cell_type": "markdown",
   "id": "27936545",
   "metadata": {},
   "source": [
    "### polynomial\n",
    "$$ X =\n",
    "\\begin{bmatrix}\n",
    "x^{(1)}_1, x^{(1)2}_2, ..., x^{(m)k}_{n}, 1\\\\\n",
    "x^{(2)}_1, x^{(2)2}_2, ..., x^{(m)k}_{n}, 1\\\\\n",
    "x^{(3)}_1, x^{(3)2}_2, ..., x^{(m)k}_{n}, 1\\\\\n",
    "x^{(m)}_1,x^{(m)k}_2, ..., x^{(m)k}_{n}, 1\\\\\n",
    "\\end{bmatrix}\n",
    "$$\n",
    "is it applicable here ?"
   ]
  },
  {
   "cell_type": "code",
   "execution_count": null,
   "id": "de4d0f82",
   "metadata": {},
   "outputs": [],
   "source": [
    "# multiple linear regression using SciKitLearn\n"
   ]
  },
  {
   "cell_type": "markdown",
   "id": "aafe2b68",
   "metadata": {},
   "source": [
    "## XGboost\n",
    "\n",
    "INSTALL package via conda install xgboost\n",
    "\n",
    "TODO to be used only with 0.5+ score ?\n"
   ]
  },
  {
   "cell_type": "code",
   "execution_count": 21,
   "id": "1f34caf0",
   "metadata": {},
   "outputs": [
    {
     "data": {
      "text/plain": [
       "XGBRegressor(base_score=0.5, booster='gbtree', colsample_bylevel=1,\n",
       "             colsample_bynode=1, colsample_bytree=1, gamma=0, gpu_id=-1,\n",
       "             importance_type='gain', interaction_constraints='',\n",
       "             learning_rate=0.300000012, max_delta_step=0, max_depth=6,\n",
       "             min_child_weight=1, missing=nan, monotone_constraints='()',\n",
       "             n_estimators=100, n_jobs=8, num_parallel_tree=1, random_state=0,\n",
       "             reg_alpha=0, reg_lambda=1, scale_pos_weight=1, subsample=1,\n",
       "             tree_method='exact', validate_parameters=1, verbosity=None)"
      ]
     },
     "execution_count": 21,
     "metadata": {},
     "output_type": "execute_result"
    }
   ],
   "source": [
    "from xgboost import XGBRegressor\n",
    "my_model = XGBRegressor()\n",
    "# Add silent=True to avoid printing out updates with each cycle\n",
    "my_model.fit(X_train, y_train, verbose=False)"
   ]
  },
  {
   "cell_type": "code",
   "execution_count": 24,
   "id": "237bd42b",
   "metadata": {},
   "outputs": [
    {
     "name": "stdout",
     "output_type": "stream",
     "text": [
      "Mean Absolute Error : 136926.98771656503\n"
     ]
    }
   ],
   "source": [
    "# make predictions\n",
    "predictions = my_model.predict(X_test)\n",
    "\n",
    "from sklearn.metrics import mean_absolute_error\n",
    "print(\"Mean Absolute Error : \" + str(mean_absolute_error(predictions, y_test)))"
   ]
  },
  {
   "cell_type": "code",
   "execution_count": 27,
   "id": "2c9c7577",
   "metadata": {},
   "outputs": [
    {
     "data": {
      "text/plain": [
       "XGBRegressor(base_score=0.5, booster='gbtree', colsample_bylevel=1,\n",
       "             colsample_bynode=1, colsample_bytree=1, gamma=0, gpu_id=-1,\n",
       "             importance_type='gain', interaction_constraints='',\n",
       "             learning_rate=0.300000012, max_delta_step=0, max_depth=6,\n",
       "             min_child_weight=1, missing=nan, monotone_constraints='()',\n",
       "             n_estimators=1000, n_jobs=8, num_parallel_tree=1, random_state=0,\n",
       "             reg_alpha=0, reg_lambda=1, scale_pos_weight=1, subsample=1,\n",
       "             tree_method='exact', validate_parameters=1, verbosity=None)"
      ]
     },
     "execution_count": 27,
     "metadata": {},
     "output_type": "execute_result"
    }
   ],
   "source": [
    "# finetuning the model\n",
    "my_model = XGBRegressor(n_estimators=1000)\n",
    "my_model.fit(X_train, y_train, early_stopping_rounds=50, \n",
    "             eval_set=[(X_test, y_test)], verbose=False)"
   ]
  },
  {
   "cell_type": "code",
   "execution_count": 28,
   "id": "1fcdf7ce",
   "metadata": {},
   "outputs": [
    {
     "name": "stdout",
     "output_type": "stream",
     "text": [
      "Mean Absolute Error : 136338.05219779254\n"
     ]
    }
   ],
   "source": [
    "# make predictions\n",
    "predictions = my_model.predict(X_test)\n",
    "\n",
    "from sklearn.metrics import mean_absolute_error\n",
    "print(\"Mean Absolute Error : \" + str(mean_absolute_error(predictions, y_test)))"
   ]
  },
  {
   "cell_type": "code",
   "execution_count": 30,
   "id": "7d4c304d",
   "metadata": {},
   "outputs": [
    {
     "data": {
      "text/plain": [
       "0.507525855860931"
      ]
     },
     "execution_count": 30,
     "metadata": {},
     "output_type": "execute_result"
    }
   ],
   "source": [
    "# mesure performance\n",
    "my_model.score(X_test, y_test)"
   ]
  },
  {
   "cell_type": "code",
   "execution_count": null,
   "id": "8689b583",
   "metadata": {},
   "outputs": [],
   "source": []
  }
 ],
 "metadata": {
  "kernelspec": {
   "display_name": "Python 3",
   "language": "python",
   "name": "python3"
  },
  "language_info": {
   "codemirror_mode": {
    "name": "ipython",
    "version": 3
   },
   "file_extension": ".py",
   "mimetype": "text/x-python",
   "name": "python",
   "nbconvert_exporter": "python",
   "pygments_lexer": "ipython3",
   "version": "3.8.8"
  }
 },
 "nbformat": 4,
 "nbformat_minor": 5
}
