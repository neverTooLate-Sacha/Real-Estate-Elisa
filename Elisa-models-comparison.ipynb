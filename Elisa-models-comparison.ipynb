{
 "cells": [
  {
   "cell_type": "markdown",
   "id": "382cddfa",
   "metadata": {},
   "source": [
    "# Elisa real estate, finding a model\n",
    "\n",
    "Source: https://raw.githubusercontent.com/JulienAlardot/challenge-collecting-data/main/Data/database.csv\n",
    "\n",
    "Libraries :\n",
    "OneHotencoding\n",
    "XGboost\n",
    "Lasso\n",
    "Ridge\n",
    "Random forest\n",
    "sklearn.preprocessing.LabelEncoder\n",
    "\n",
    "Expected result: compare the prediction performance of the models, create best simulation and prediction"
   ]
  },
  {
   "cell_type": "code",
   "execution_count": 1,
   "id": "79ba7c28",
   "metadata": {},
   "outputs": [
    {
     "data": {
      "text/plain": [
       "(73510, 23)"
      ]
     },
     "execution_count": 1,
     "metadata": {},
     "output_type": "execute_result"
    }
   ],
   "source": [
    "import pandas as pd\n",
    "import numpy as np\n",
    "from matplotlib import pyplot as plt\n",
    "%matplotlib inline\n",
    "import seaborn as sns\n",
    "df = pd.read_csv('./data/may.csv', index_col=0)\n",
    "df.shape"
   ]
  },
  {
   "cell_type": "code",
   "execution_count": 2,
   "id": "e9c69f9e",
   "metadata": {},
   "outputs": [
    {
     "data": {
      "text/html": [
       "<div>\n",
       "<style scoped>\n",
       "    .dataframe tbody tr th:only-of-type {\n",
       "        vertical-align: middle;\n",
       "    }\n",
       "\n",
       "    .dataframe tbody tr th {\n",
       "        vertical-align: top;\n",
       "    }\n",
       "\n",
       "    .dataframe thead th {\n",
       "        text-align: right;\n",
       "    }\n",
       "</style>\n",
       "<table border=\"1\" class=\"dataframe\">\n",
       "  <thead>\n",
       "    <tr style=\"text-align: right;\">\n",
       "      <th></th>\n",
       "      <th>Url</th>\n",
       "      <th>Source</th>\n",
       "      <th>Locality</th>\n",
       "      <th>Type of property</th>\n",
       "      <th>Subtype of property</th>\n",
       "      <th>Price</th>\n",
       "      <th>Type of sale</th>\n",
       "      <th>Number of rooms</th>\n",
       "      <th>Area</th>\n",
       "      <th>Fully equipped kitchen</th>\n",
       "      <th>...</th>\n",
       "      <th>Terrace Area</th>\n",
       "      <th>Garden</th>\n",
       "      <th>Garden Area</th>\n",
       "      <th>Surface of the land</th>\n",
       "      <th>Surface area of the plot of land</th>\n",
       "      <th>Number of facades</th>\n",
       "      <th>Swimming pool</th>\n",
       "      <th>State of the building</th>\n",
       "      <th>Province</th>\n",
       "      <th>Region</th>\n",
       "    </tr>\n",
       "  </thead>\n",
       "  <tbody>\n",
       "    <tr>\n",
       "      <th>0</th>\n",
       "      <td>https://www.logic-immo.be/fr/vente/appartement...</td>\n",
       "      <td>logic-immo.be</td>\n",
       "      <td>2970</td>\n",
       "      <td>apartment</td>\n",
       "      <td>NaN</td>\n",
       "      <td>319799.0</td>\n",
       "      <td>regular sale</td>\n",
       "      <td>1.0</td>\n",
       "      <td>NaN</td>\n",
       "      <td>0.0</td>\n",
       "      <td>...</td>\n",
       "      <td>11.0</td>\n",
       "      <td>0.0</td>\n",
       "      <td>NaN</td>\n",
       "      <td>NaN</td>\n",
       "      <td>NaN</td>\n",
       "      <td>NaN</td>\n",
       "      <td>0.0</td>\n",
       "      <td>NaN</td>\n",
       "      <td>Antwerp</td>\n",
       "      <td>Vlaams</td>\n",
       "    </tr>\n",
       "    <tr>\n",
       "      <th>1</th>\n",
       "      <td>https://www.logic-immo.be/fr/vente/appartement...</td>\n",
       "      <td>logic-immo.be</td>\n",
       "      <td>2970</td>\n",
       "      <td>apartment</td>\n",
       "      <td>NaN</td>\n",
       "      <td>291999.0</td>\n",
       "      <td>regular sale</td>\n",
       "      <td>1.0</td>\n",
       "      <td>NaN</td>\n",
       "      <td>0.0</td>\n",
       "      <td>...</td>\n",
       "      <td>6.0</td>\n",
       "      <td>0.0</td>\n",
       "      <td>NaN</td>\n",
       "      <td>NaN</td>\n",
       "      <td>NaN</td>\n",
       "      <td>NaN</td>\n",
       "      <td>0.0</td>\n",
       "      <td>NaN</td>\n",
       "      <td>Antwerp</td>\n",
       "      <td>Vlaams</td>\n",
       "    </tr>\n",
       "    <tr>\n",
       "      <th>2</th>\n",
       "      <td>https://www.logic-immo.be/fr/vente/appartement...</td>\n",
       "      <td>logic-immo.be</td>\n",
       "      <td>2970</td>\n",
       "      <td>apartment</td>\n",
       "      <td>NaN</td>\n",
       "      <td>764999.0</td>\n",
       "      <td>regular sale</td>\n",
       "      <td>2.0</td>\n",
       "      <td>153.0</td>\n",
       "      <td>0.0</td>\n",
       "      <td>...</td>\n",
       "      <td>62.0</td>\n",
       "      <td>0.0</td>\n",
       "      <td>NaN</td>\n",
       "      <td>NaN</td>\n",
       "      <td>NaN</td>\n",
       "      <td>NaN</td>\n",
       "      <td>0.0</td>\n",
       "      <td>NaN</td>\n",
       "      <td>Antwerp</td>\n",
       "      <td>Vlaams</td>\n",
       "    </tr>\n",
       "    <tr>\n",
       "      <th>3</th>\n",
       "      <td>https://www.logic-immo.be/fr/vente/appartement...</td>\n",
       "      <td>logic-immo.be</td>\n",
       "      <td>2970</td>\n",
       "      <td>apartment</td>\n",
       "      <td>NaN</td>\n",
       "      <td>660264.0</td>\n",
       "      <td>regular sale</td>\n",
       "      <td>3.0</td>\n",
       "      <td>NaN</td>\n",
       "      <td>0.0</td>\n",
       "      <td>...</td>\n",
       "      <td>160.0</td>\n",
       "      <td>0.0</td>\n",
       "      <td>NaN</td>\n",
       "      <td>NaN</td>\n",
       "      <td>NaN</td>\n",
       "      <td>NaN</td>\n",
       "      <td>0.0</td>\n",
       "      <td>NaN</td>\n",
       "      <td>Antwerp</td>\n",
       "      <td>Vlaams</td>\n",
       "    </tr>\n",
       "  </tbody>\n",
       "</table>\n",
       "<p>4 rows × 23 columns</p>\n",
       "</div>"
      ],
      "text/plain": [
       "                                                 Url         Source  Locality  \\\n",
       "0  https://www.logic-immo.be/fr/vente/appartement...  logic-immo.be      2970   \n",
       "1  https://www.logic-immo.be/fr/vente/appartement...  logic-immo.be      2970   \n",
       "2  https://www.logic-immo.be/fr/vente/appartement...  logic-immo.be      2970   \n",
       "3  https://www.logic-immo.be/fr/vente/appartement...  logic-immo.be      2970   \n",
       "\n",
       "  Type of property Subtype of property     Price  Type of sale  \\\n",
       "0        apartment                 NaN  319799.0  regular sale   \n",
       "1        apartment                 NaN  291999.0  regular sale   \n",
       "2        apartment                 NaN  764999.0  regular sale   \n",
       "3        apartment                 NaN  660264.0  regular sale   \n",
       "\n",
       "   Number of rooms   Area  Fully equipped kitchen  ...  Terrace Area  Garden  \\\n",
       "0              1.0    NaN                     0.0  ...          11.0     0.0   \n",
       "1              1.0    NaN                     0.0  ...           6.0     0.0   \n",
       "2              2.0  153.0                     0.0  ...          62.0     0.0   \n",
       "3              3.0    NaN                     0.0  ...         160.0     0.0   \n",
       "\n",
       "   Garden Area  Surface of the land  Surface area of the plot of land  \\\n",
       "0          NaN                  NaN                               NaN   \n",
       "1          NaN                  NaN                               NaN   \n",
       "2          NaN                  NaN                               NaN   \n",
       "3          NaN                  NaN                               NaN   \n",
       "\n",
       "   Number of facades  Swimming pool  State of the building  Province  Region  \n",
       "0                NaN            0.0                    NaN   Antwerp  Vlaams  \n",
       "1                NaN            0.0                    NaN   Antwerp  Vlaams  \n",
       "2                NaN            0.0                    NaN   Antwerp  Vlaams  \n",
       "3                NaN            0.0                    NaN   Antwerp  Vlaams  \n",
       "\n",
       "[4 rows x 23 columns]"
      ]
     },
     "execution_count": 2,
     "metadata": {},
     "output_type": "execute_result"
    }
   ],
   "source": [
    "df.head(4)"
   ]
  },
  {
   "cell_type": "markdown",
   "id": "fddfbacc",
   "metadata": {},
   "source": [
    "## Data cleaning\n",
    "\n",
    " - Existence of duplicated columns ?\n",
    " - Get rid of title column ? not needed -> np.array\n",
    " - Remove URL column which is there for debugging purpose\n",
    " - Remove columns with missing values with threshold more than 80% Nan or equivalent\n",
    " - Check if the type of data is homogenous per column if not clean, check unique\n",
    " - Check abnomalies and outliers\n",
    " \n",
    "## Data engineering\n",
    "\n",
    "- Digitalisation of the concrete variables (one, dummies,.. )\n",
    "- Hyperparameters selection libraries\n",
    " "
   ]
  },
  {
   "cell_type": "code",
   "execution_count": 3,
   "id": "f2090fa8",
   "metadata": {},
   "outputs": [],
   "source": [
    "dummies = pd.get_dummies(df.Province)\n",
    "merged = pd.concat([df, dummies], axis = 'columns')\n",
    "df = merged.drop(['Province'], axis = 'columns')"
   ]
  },
  {
   "cell_type": "code",
   "execution_count": 4,
   "id": "2eace945",
   "metadata": {},
   "outputs": [],
   "source": [
    "# get rid of unuseful data for ML\n",
    "df.drop(['Url', 'Source', 'Locality', 'Region'], axis=1, inplace = True)"
   ]
  },
  {
   "cell_type": "code",
   "execution_count": 5,
   "id": "4547b611",
   "metadata": {},
   "outputs": [
    {
     "data": {
      "text/plain": [
       "(72336, 29)"
      ]
     },
     "execution_count": 5,
     "metadata": {},
     "output_type": "execute_result"
    }
   ],
   "source": [
    "# df.duplicated().any() \n",
    "df.drop_duplicates(keep = 'first', inplace=True)\n",
    "df.shape"
   ]
  },
  {
   "cell_type": "code",
   "execution_count": 6,
   "id": "ff03a1d0",
   "metadata": {},
   "outputs": [
    {
     "data": {
      "text/html": [
       "<div>\n",
       "<style scoped>\n",
       "    .dataframe tbody tr th:only-of-type {\n",
       "        vertical-align: middle;\n",
       "    }\n",
       "\n",
       "    .dataframe tbody tr th {\n",
       "        vertical-align: top;\n",
       "    }\n",
       "\n",
       "    .dataframe thead th {\n",
       "        text-align: right;\n",
       "    }\n",
       "</style>\n",
       "<table border=\"1\" class=\"dataframe\">\n",
       "  <thead>\n",
       "    <tr style=\"text-align: right;\">\n",
       "      <th></th>\n",
       "      <th>Type of property</th>\n",
       "      <th>Subtype of property</th>\n",
       "      <th>Price</th>\n",
       "      <th>Type of sale</th>\n",
       "      <th>Number of rooms</th>\n",
       "      <th>Area</th>\n",
       "      <th>Fully equipped kitchen</th>\n",
       "      <th>Furnished</th>\n",
       "      <th>Open fire</th>\n",
       "      <th>Terrace</th>\n",
       "      <th>...</th>\n",
       "      <th>Brabant Wallon</th>\n",
       "      <th>Brussels</th>\n",
       "      <th>Hainaut</th>\n",
       "      <th>Limburg</th>\n",
       "      <th>Liège</th>\n",
       "      <th>Luxembourg</th>\n",
       "      <th>Namur</th>\n",
       "      <th>Oost-Vlanderen</th>\n",
       "      <th>Vlaams-Brabant</th>\n",
       "      <th>West-Vlanderen</th>\n",
       "    </tr>\n",
       "  </thead>\n",
       "  <tbody>\n",
       "    <tr>\n",
       "      <th>0</th>\n",
       "      <td>apartment</td>\n",
       "      <td>NaN</td>\n",
       "      <td>319799.0</td>\n",
       "      <td>regular sale</td>\n",
       "      <td>1.0</td>\n",
       "      <td>NaN</td>\n",
       "      <td>0.0</td>\n",
       "      <td>0.0</td>\n",
       "      <td>0.0</td>\n",
       "      <td>1.0</td>\n",
       "      <td>...</td>\n",
       "      <td>0</td>\n",
       "      <td>0</td>\n",
       "      <td>0</td>\n",
       "      <td>0</td>\n",
       "      <td>0</td>\n",
       "      <td>0</td>\n",
       "      <td>0</td>\n",
       "      <td>0</td>\n",
       "      <td>0</td>\n",
       "      <td>0</td>\n",
       "    </tr>\n",
       "    <tr>\n",
       "      <th>1</th>\n",
       "      <td>apartment</td>\n",
       "      <td>NaN</td>\n",
       "      <td>291999.0</td>\n",
       "      <td>regular sale</td>\n",
       "      <td>1.0</td>\n",
       "      <td>NaN</td>\n",
       "      <td>0.0</td>\n",
       "      <td>0.0</td>\n",
       "      <td>0.0</td>\n",
       "      <td>1.0</td>\n",
       "      <td>...</td>\n",
       "      <td>0</td>\n",
       "      <td>0</td>\n",
       "      <td>0</td>\n",
       "      <td>0</td>\n",
       "      <td>0</td>\n",
       "      <td>0</td>\n",
       "      <td>0</td>\n",
       "      <td>0</td>\n",
       "      <td>0</td>\n",
       "      <td>0</td>\n",
       "    </tr>\n",
       "    <tr>\n",
       "      <th>2</th>\n",
       "      <td>apartment</td>\n",
       "      <td>NaN</td>\n",
       "      <td>764999.0</td>\n",
       "      <td>regular sale</td>\n",
       "      <td>2.0</td>\n",
       "      <td>153.0</td>\n",
       "      <td>0.0</td>\n",
       "      <td>0.0</td>\n",
       "      <td>0.0</td>\n",
       "      <td>1.0</td>\n",
       "      <td>...</td>\n",
       "      <td>0</td>\n",
       "      <td>0</td>\n",
       "      <td>0</td>\n",
       "      <td>0</td>\n",
       "      <td>0</td>\n",
       "      <td>0</td>\n",
       "      <td>0</td>\n",
       "      <td>0</td>\n",
       "      <td>0</td>\n",
       "      <td>0</td>\n",
       "    </tr>\n",
       "    <tr>\n",
       "      <th>3</th>\n",
       "      <td>apartment</td>\n",
       "      <td>NaN</td>\n",
       "      <td>660264.0</td>\n",
       "      <td>regular sale</td>\n",
       "      <td>3.0</td>\n",
       "      <td>NaN</td>\n",
       "      <td>0.0</td>\n",
       "      <td>0.0</td>\n",
       "      <td>0.0</td>\n",
       "      <td>1.0</td>\n",
       "      <td>...</td>\n",
       "      <td>0</td>\n",
       "      <td>0</td>\n",
       "      <td>0</td>\n",
       "      <td>0</td>\n",
       "      <td>0</td>\n",
       "      <td>0</td>\n",
       "      <td>0</td>\n",
       "      <td>0</td>\n",
       "      <td>0</td>\n",
       "      <td>0</td>\n",
       "    </tr>\n",
       "    <tr>\n",
       "      <th>4</th>\n",
       "      <td>apartment</td>\n",
       "      <td>NaN</td>\n",
       "      <td>294999.0</td>\n",
       "      <td>regular sale</td>\n",
       "      <td>2.0</td>\n",
       "      <td>80.0</td>\n",
       "      <td>0.0</td>\n",
       "      <td>0.0</td>\n",
       "      <td>0.0</td>\n",
       "      <td>0.0</td>\n",
       "      <td>...</td>\n",
       "      <td>0</td>\n",
       "      <td>0</td>\n",
       "      <td>0</td>\n",
       "      <td>0</td>\n",
       "      <td>0</td>\n",
       "      <td>0</td>\n",
       "      <td>0</td>\n",
       "      <td>0</td>\n",
       "      <td>1</td>\n",
       "      <td>0</td>\n",
       "    </tr>\n",
       "  </tbody>\n",
       "</table>\n",
       "<p>5 rows × 29 columns</p>\n",
       "</div>"
      ],
      "text/plain": [
       "  Type of property Subtype of property     Price  Type of sale  \\\n",
       "0        apartment                 NaN  319799.0  regular sale   \n",
       "1        apartment                 NaN  291999.0  regular sale   \n",
       "2        apartment                 NaN  764999.0  regular sale   \n",
       "3        apartment                 NaN  660264.0  regular sale   \n",
       "4        apartment                 NaN  294999.0  regular sale   \n",
       "\n",
       "   Number of rooms   Area  Fully equipped kitchen  Furnished  Open fire  \\\n",
       "0              1.0    NaN                     0.0        0.0        0.0   \n",
       "1              1.0    NaN                     0.0        0.0        0.0   \n",
       "2              2.0  153.0                     0.0        0.0        0.0   \n",
       "3              3.0    NaN                     0.0        0.0        0.0   \n",
       "4              2.0   80.0                     0.0        0.0        0.0   \n",
       "\n",
       "   Terrace  ...  Brabant Wallon  Brussels  Hainaut  Limburg  Liège  \\\n",
       "0      1.0  ...               0         0        0        0      0   \n",
       "1      1.0  ...               0         0        0        0      0   \n",
       "2      1.0  ...               0         0        0        0      0   \n",
       "3      1.0  ...               0         0        0        0      0   \n",
       "4      0.0  ...               0         0        0        0      0   \n",
       "\n",
       "   Luxembourg  Namur Oost-Vlanderen  Vlaams-Brabant  West-Vlanderen  \n",
       "0           0      0              0               0               0  \n",
       "1           0      0              0               0               0  \n",
       "2           0      0              0               0               0  \n",
       "3           0      0              0               0               0  \n",
       "4           0      0              0               1               0  \n",
       "\n",
       "[5 rows x 29 columns]"
      ]
     },
     "execution_count": 6,
     "metadata": {},
     "output_type": "execute_result"
    }
   ],
   "source": [
    "df.head()"
   ]
  },
  {
   "cell_type": "code",
   "execution_count": 7,
   "id": "609c9ef4",
   "metadata": {},
   "outputs": [],
   "source": [
    "dummies = pd.get_dummies(df['State of the building'])\n",
    "merged = pd.concat([df, dummies], axis = 'columns')\n",
    "df = merged.drop(['State of the building'], axis = 'columns')"
   ]
  },
  {
   "cell_type": "code",
   "execution_count": 8,
   "id": "482cc3d4",
   "metadata": {},
   "outputs": [],
   "source": [
    "# get rid of columns with less than 20% data\n",
    "df.dropna(thresh=len(df)*0.8, axis='columns', inplace = True)"
   ]
  },
  {
   "cell_type": "code",
   "execution_count": 9,
   "id": "0438b95b",
   "metadata": {},
   "outputs": [],
   "source": [
    "dummies = pd.get_dummies(df['Type of property'])\n",
    "merged = pd.concat([df, dummies], axis = 'columns')\n",
    "df = merged.drop(['Type of property'], axis = 'columns')"
   ]
  },
  {
   "cell_type": "code",
   "execution_count": 10,
   "id": "93ddd7e5",
   "metadata": {},
   "outputs": [
    {
     "data": {
      "text/plain": [
       "(71386, 25)"
      ]
     },
     "execution_count": 10,
     "metadata": {},
     "output_type": "execute_result"
    }
   ],
   "source": [
    "# get rid of outliers\n",
    "# df.sort_values(by='Price', ascending = False).head(4)\n",
    "df = df[(df.Price >= 40000) & (df.Price <= 10000000)] \n",
    "df.shape"
   ]
  },
  {
   "cell_type": "code",
   "execution_count": 11,
   "id": "d9c8e3dd",
   "metadata": {},
   "outputs": [
    {
     "name": "stdout",
     "output_type": "stream",
     "text": [
      "\n",
      "---- Type of sale ----\n",
      "\n",
      "['regular sale' 'public sale']\n",
      "\n",
      "---- Number of rooms ----\n",
      "\n",
      "[  1.   2.   3.  18.   4.  nan   5.   6.  10.   7. 125.  14.   9.  32.\n",
      "  12.   8.  16.  19.  35.  11.  15.  13.  50.  20.  25.  24.  21.  30.\n",
      "   0.  47.  66.  22.  36.  40.  41.  34.  17.  28.  46.  63. 165.  27.\n",
      "  99.  70.  37.  80.  39.  38.  90.  33.  23.]\n",
      "\n",
      "---- Fully equipped kitchen ----\n",
      "\n",
      "[0. 1.]\n",
      "\n",
      "---- Open fire ----\n",
      "\n",
      "[0. 1.]\n",
      "\n",
      "---- Terrace ----\n",
      "\n",
      "[1. 0.]\n",
      "\n",
      "---- Garden ----\n",
      "\n",
      "[0. 1.]\n",
      "\n",
      "---- Swimming pool ----\n",
      "\n",
      "[0. 1.]\n",
      "\n",
      "---- Antwerp ----\n",
      "\n",
      "[1 0]\n",
      "\n",
      "---- Brabant Wallon ----\n",
      "\n",
      "[0 1]\n",
      "\n",
      "---- Brussels ----\n",
      "\n",
      "[0 1]\n",
      "\n",
      "---- Hainaut ----\n",
      "\n",
      "[0 1]\n",
      "\n",
      "---- Limburg ----\n",
      "\n",
      "[0 1]\n",
      "\n",
      "---- Liège ----\n",
      "\n",
      "[0 1]\n",
      "\n",
      "---- Luxembourg ----\n",
      "\n",
      "[0 1]\n",
      "\n",
      "---- Namur ----\n",
      "\n",
      "[0 1]\n",
      "\n",
      "---- Oost-Vlanderen ----\n",
      "\n",
      "[0 1]\n",
      "\n",
      "---- Vlaams-Brabant ----\n",
      "\n",
      "[0 1]\n",
      "\n",
      "---- West-Vlanderen ----\n",
      "\n",
      "[0 1]\n",
      "\n",
      "---- good ----\n",
      "\n",
      "[0 1]\n",
      "\n",
      "---- new ----\n",
      "\n",
      "[0 1]\n",
      "\n",
      "---- to renovate ----\n",
      "\n",
      "[0 1]\n",
      "\n",
      "---- apartment ----\n",
      "\n",
      "[1 0]\n",
      "\n",
      "---- house ----\n",
      "\n",
      "[0 1]\n"
     ]
    }
   ],
   "source": [
    "# examine data of remaining columns \n",
    "for columns in df: \n",
    "    if(len(df[columns].unique()) < 400): \n",
    "        print(f\"\\n---- {columns} ----\\n\")\n",
    "        print(df[columns].unique())"
   ]
  },
  {
   "cell_type": "code",
   "execution_count": 12,
   "id": "b56ae367",
   "metadata": {},
   "outputs": [
    {
     "data": {
      "text/plain": [
       "(70387, 25)"
      ]
     },
     "execution_count": 12,
     "metadata": {},
     "output_type": "execute_result"
    }
   ],
   "source": [
    "# keep regular sales and drop public sales\n",
    "# df.groupby([df['Type of sale'] == 'public sale']).count()\n",
    "df = df[df['Type of sale'] == 'regular sale']\n",
    "df.shape"
   ]
  },
  {
   "cell_type": "code",
   "execution_count": 13,
   "id": "55280e00",
   "metadata": {},
   "outputs": [
    {
     "data": {
      "text/plain": [
       "(67792, 25)"
      ]
     },
     "execution_count": 13,
     "metadata": {},
     "output_type": "execute_result"
    }
   ],
   "source": [
    "# clean number of rooms \n",
    "# df.groupby(df['Number of rooms'] ).sum()\n",
    "# df.groupby(df['Number of rooms'] > 9).count()\n",
    "df =df[df['Number of rooms'] != 0] # more than 1250\n",
    "df =df[df['Number of rooms'] < 9] # less than 300\n",
    "df.shape"
   ]
  },
  {
   "cell_type": "code",
   "execution_count": 14,
   "id": "e4916969",
   "metadata": {},
   "outputs": [
    {
     "data": {
      "text/plain": [
       "(58377, 25)"
      ]
     },
     "execution_count": 14,
     "metadata": {},
     "output_type": "execute_result"
    }
   ],
   "source": [
    "# clea n area\n",
    "df =df[df['Area'] > 20]\n",
    "df =df[df['Area'] < 1500]\n",
    "df.sort_values(by = 'Area')\n",
    "df.shape"
   ]
  },
  {
   "cell_type": "code",
   "execution_count": 15,
   "id": "0f28cde3",
   "metadata": {},
   "outputs": [
    {
     "data": {
      "text/plain": [
       "Price                     False\n",
       "Type of sale              False\n",
       "Number of rooms           False\n",
       "Area                      False\n",
       "Fully equipped kitchen    False\n",
       "Open fire                 False\n",
       "Terrace                   False\n",
       "Garden                    False\n",
       "Swimming pool             False\n",
       "Antwerp                   False\n",
       "Brabant Wallon            False\n",
       "Brussels                  False\n",
       "Hainaut                   False\n",
       "Limburg                   False\n",
       "Liège                     False\n",
       "Luxembourg                False\n",
       "Namur                     False\n",
       "Oost-Vlanderen            False\n",
       "Vlaams-Brabant            False\n",
       "West-Vlanderen            False\n",
       "good                      False\n",
       "new                       False\n",
       "to renovate               False\n",
       "apartment                 False\n",
       "house                     False\n",
       "dtype: bool"
      ]
     },
     "execution_count": 15,
     "metadata": {},
     "output_type": "execute_result"
    }
   ],
   "source": [
    "# data engineering - is null \n",
    "df.isnull().any()\n"
   ]
  },
  {
   "cell_type": "code",
   "execution_count": 16,
   "id": "661314ec",
   "metadata": {},
   "outputs": [
    {
     "data": {
      "text/plain": [
       "(58377, 25)"
      ]
     },
     "execution_count": 16,
     "metadata": {},
     "output_type": "execute_result"
    }
   ],
   "source": [
    "# Get rid of nan, delete rows\n",
    "df = df.dropna()\n",
    "df.isnull().any()\n",
    "df.shape"
   ]
  },
  {
   "cell_type": "code",
   "execution_count": 17,
   "id": "3d92b075",
   "metadata": {},
   "outputs": [
    {
     "data": {
      "text/plain": [
       "(58377, 25)"
      ]
     },
     "execution_count": 17,
     "metadata": {},
     "output_type": "execute_result"
    }
   ],
   "source": [
    "df.groupby(df['Number of rooms'] < 1).count()\n",
    "df.shape"
   ]
  },
  {
   "cell_type": "code",
   "execution_count": 18,
   "id": "daf6dc32",
   "metadata": {},
   "outputs": [],
   "source": [
    "# get rid of unuseful data for ML\n",
    "df.drop(['Type of sale'], axis=1, inplace = True)"
   ]
  },
  {
   "cell_type": "code",
   "execution_count": 19,
   "id": "6842b937",
   "metadata": {},
   "outputs": [
    {
     "data": {
      "text/html": [
       "<div>\n",
       "<style scoped>\n",
       "    .dataframe tbody tr th:only-of-type {\n",
       "        vertical-align: middle;\n",
       "    }\n",
       "\n",
       "    .dataframe tbody tr th {\n",
       "        vertical-align: top;\n",
       "    }\n",
       "\n",
       "    .dataframe thead th {\n",
       "        text-align: right;\n",
       "    }\n",
       "</style>\n",
       "<table border=\"1\" class=\"dataframe\">\n",
       "  <thead>\n",
       "    <tr style=\"text-align: right;\">\n",
       "      <th></th>\n",
       "      <th>Price</th>\n",
       "      <th>Number of rooms</th>\n",
       "      <th>Area</th>\n",
       "      <th>Fully equipped kitchen</th>\n",
       "      <th>Open fire</th>\n",
       "      <th>Terrace</th>\n",
       "      <th>Garden</th>\n",
       "      <th>Swimming pool</th>\n",
       "      <th>Antwerp</th>\n",
       "      <th>Brabant Wallon</th>\n",
       "      <th>...</th>\n",
       "      <th>Luxembourg</th>\n",
       "      <th>Namur</th>\n",
       "      <th>Oost-Vlanderen</th>\n",
       "      <th>Vlaams-Brabant</th>\n",
       "      <th>West-Vlanderen</th>\n",
       "      <th>good</th>\n",
       "      <th>new</th>\n",
       "      <th>to renovate</th>\n",
       "      <th>apartment</th>\n",
       "      <th>house</th>\n",
       "    </tr>\n",
       "  </thead>\n",
       "  <tbody>\n",
       "    <tr>\n",
       "      <th>2</th>\n",
       "      <td>764999.0</td>\n",
       "      <td>2.0</td>\n",
       "      <td>153.0</td>\n",
       "      <td>0.0</td>\n",
       "      <td>0.0</td>\n",
       "      <td>1.0</td>\n",
       "      <td>0.0</td>\n",
       "      <td>0.0</td>\n",
       "      <td>1</td>\n",
       "      <td>0</td>\n",
       "      <td>...</td>\n",
       "      <td>0</td>\n",
       "      <td>0</td>\n",
       "      <td>0</td>\n",
       "      <td>0</td>\n",
       "      <td>0</td>\n",
       "      <td>0</td>\n",
       "      <td>0</td>\n",
       "      <td>0</td>\n",
       "      <td>1</td>\n",
       "      <td>0</td>\n",
       "    </tr>\n",
       "    <tr>\n",
       "      <th>4</th>\n",
       "      <td>294999.0</td>\n",
       "      <td>2.0</td>\n",
       "      <td>80.0</td>\n",
       "      <td>0.0</td>\n",
       "      <td>0.0</td>\n",
       "      <td>0.0</td>\n",
       "      <td>0.0</td>\n",
       "      <td>0.0</td>\n",
       "      <td>0</td>\n",
       "      <td>0</td>\n",
       "      <td>...</td>\n",
       "      <td>0</td>\n",
       "      <td>0</td>\n",
       "      <td>0</td>\n",
       "      <td>1</td>\n",
       "      <td>0</td>\n",
       "      <td>0</td>\n",
       "      <td>0</td>\n",
       "      <td>0</td>\n",
       "      <td>1</td>\n",
       "      <td>0</td>\n",
       "    </tr>\n",
       "    <tr>\n",
       "      <th>6</th>\n",
       "      <td>233999.0</td>\n",
       "      <td>2.0</td>\n",
       "      <td>90.0</td>\n",
       "      <td>0.0</td>\n",
       "      <td>0.0</td>\n",
       "      <td>0.0</td>\n",
       "      <td>0.0</td>\n",
       "      <td>0.0</td>\n",
       "      <td>0</td>\n",
       "      <td>0</td>\n",
       "      <td>...</td>\n",
       "      <td>0</td>\n",
       "      <td>0</td>\n",
       "      <td>0</td>\n",
       "      <td>0</td>\n",
       "      <td>1</td>\n",
       "      <td>0</td>\n",
       "      <td>0</td>\n",
       "      <td>0</td>\n",
       "      <td>1</td>\n",
       "      <td>0</td>\n",
       "    </tr>\n",
       "    <tr>\n",
       "      <th>7</th>\n",
       "      <td>329899.0</td>\n",
       "      <td>1.0</td>\n",
       "      <td>87.0</td>\n",
       "      <td>0.0</td>\n",
       "      <td>0.0</td>\n",
       "      <td>1.0</td>\n",
       "      <td>0.0</td>\n",
       "      <td>0.0</td>\n",
       "      <td>1</td>\n",
       "      <td>0</td>\n",
       "      <td>...</td>\n",
       "      <td>0</td>\n",
       "      <td>0</td>\n",
       "      <td>0</td>\n",
       "      <td>0</td>\n",
       "      <td>0</td>\n",
       "      <td>0</td>\n",
       "      <td>0</td>\n",
       "      <td>0</td>\n",
       "      <td>1</td>\n",
       "      <td>0</td>\n",
       "    </tr>\n",
       "    <tr>\n",
       "      <th>9</th>\n",
       "      <td>359899.0</td>\n",
       "      <td>1.0</td>\n",
       "      <td>95.0</td>\n",
       "      <td>0.0</td>\n",
       "      <td>0.0</td>\n",
       "      <td>1.0</td>\n",
       "      <td>0.0</td>\n",
       "      <td>0.0</td>\n",
       "      <td>1</td>\n",
       "      <td>0</td>\n",
       "      <td>...</td>\n",
       "      <td>0</td>\n",
       "      <td>0</td>\n",
       "      <td>0</td>\n",
       "      <td>0</td>\n",
       "      <td>0</td>\n",
       "      <td>0</td>\n",
       "      <td>0</td>\n",
       "      <td>0</td>\n",
       "      <td>1</td>\n",
       "      <td>0</td>\n",
       "    </tr>\n",
       "    <tr>\n",
       "      <th>...</th>\n",
       "      <td>...</td>\n",
       "      <td>...</td>\n",
       "      <td>...</td>\n",
       "      <td>...</td>\n",
       "      <td>...</td>\n",
       "      <td>...</td>\n",
       "      <td>...</td>\n",
       "      <td>...</td>\n",
       "      <td>...</td>\n",
       "      <td>...</td>\n",
       "      <td>...</td>\n",
       "      <td>...</td>\n",
       "      <td>...</td>\n",
       "      <td>...</td>\n",
       "      <td>...</td>\n",
       "      <td>...</td>\n",
       "      <td>...</td>\n",
       "      <td>...</td>\n",
       "      <td>...</td>\n",
       "      <td>...</td>\n",
       "      <td>...</td>\n",
       "    </tr>\n",
       "    <tr>\n",
       "      <th>73496</th>\n",
       "      <td>334900.0</td>\n",
       "      <td>3.0</td>\n",
       "      <td>165.0</td>\n",
       "      <td>0.0</td>\n",
       "      <td>0.0</td>\n",
       "      <td>0.0</td>\n",
       "      <td>0.0</td>\n",
       "      <td>0.0</td>\n",
       "      <td>0</td>\n",
       "      <td>0</td>\n",
       "      <td>...</td>\n",
       "      <td>0</td>\n",
       "      <td>0</td>\n",
       "      <td>0</td>\n",
       "      <td>0</td>\n",
       "      <td>0</td>\n",
       "      <td>0</td>\n",
       "      <td>0</td>\n",
       "      <td>0</td>\n",
       "      <td>0</td>\n",
       "      <td>1</td>\n",
       "    </tr>\n",
       "    <tr>\n",
       "      <th>73497</th>\n",
       "      <td>340500.0</td>\n",
       "      <td>3.0</td>\n",
       "      <td>167.0</td>\n",
       "      <td>0.0</td>\n",
       "      <td>0.0</td>\n",
       "      <td>0.0</td>\n",
       "      <td>0.0</td>\n",
       "      <td>0.0</td>\n",
       "      <td>0</td>\n",
       "      <td>0</td>\n",
       "      <td>...</td>\n",
       "      <td>0</td>\n",
       "      <td>0</td>\n",
       "      <td>0</td>\n",
       "      <td>0</td>\n",
       "      <td>0</td>\n",
       "      <td>0</td>\n",
       "      <td>0</td>\n",
       "      <td>0</td>\n",
       "      <td>0</td>\n",
       "      <td>1</td>\n",
       "    </tr>\n",
       "    <tr>\n",
       "      <th>73500</th>\n",
       "      <td>307242.0</td>\n",
       "      <td>3.0</td>\n",
       "      <td>150.0</td>\n",
       "      <td>0.0</td>\n",
       "      <td>0.0</td>\n",
       "      <td>0.0</td>\n",
       "      <td>0.0</td>\n",
       "      <td>0.0</td>\n",
       "      <td>0</td>\n",
       "      <td>0</td>\n",
       "      <td>...</td>\n",
       "      <td>0</td>\n",
       "      <td>0</td>\n",
       "      <td>0</td>\n",
       "      <td>0</td>\n",
       "      <td>1</td>\n",
       "      <td>0</td>\n",
       "      <td>0</td>\n",
       "      <td>0</td>\n",
       "      <td>0</td>\n",
       "      <td>1</td>\n",
       "    </tr>\n",
       "    <tr>\n",
       "      <th>73501</th>\n",
       "      <td>315000.0</td>\n",
       "      <td>3.0</td>\n",
       "      <td>150.0</td>\n",
       "      <td>0.0</td>\n",
       "      <td>0.0</td>\n",
       "      <td>1.0</td>\n",
       "      <td>0.0</td>\n",
       "      <td>0.0</td>\n",
       "      <td>0</td>\n",
       "      <td>0</td>\n",
       "      <td>...</td>\n",
       "      <td>0</td>\n",
       "      <td>0</td>\n",
       "      <td>1</td>\n",
       "      <td>0</td>\n",
       "      <td>0</td>\n",
       "      <td>1</td>\n",
       "      <td>0</td>\n",
       "      <td>0</td>\n",
       "      <td>0</td>\n",
       "      <td>1</td>\n",
       "    </tr>\n",
       "    <tr>\n",
       "      <th>73502</th>\n",
       "      <td>315000.0</td>\n",
       "      <td>3.0</td>\n",
       "      <td>150.0</td>\n",
       "      <td>0.0</td>\n",
       "      <td>0.0</td>\n",
       "      <td>1.0</td>\n",
       "      <td>0.0</td>\n",
       "      <td>0.0</td>\n",
       "      <td>0</td>\n",
       "      <td>0</td>\n",
       "      <td>...</td>\n",
       "      <td>0</td>\n",
       "      <td>0</td>\n",
       "      <td>1</td>\n",
       "      <td>0</td>\n",
       "      <td>0</td>\n",
       "      <td>1</td>\n",
       "      <td>0</td>\n",
       "      <td>0</td>\n",
       "      <td>0</td>\n",
       "      <td>1</td>\n",
       "    </tr>\n",
       "  </tbody>\n",
       "</table>\n",
       "<p>58377 rows × 24 columns</p>\n",
       "</div>"
      ],
      "text/plain": [
       "          Price  Number of rooms   Area  Fully equipped kitchen  Open fire  \\\n",
       "2      764999.0              2.0  153.0                     0.0        0.0   \n",
       "4      294999.0              2.0   80.0                     0.0        0.0   \n",
       "6      233999.0              2.0   90.0                     0.0        0.0   \n",
       "7      329899.0              1.0   87.0                     0.0        0.0   \n",
       "9      359899.0              1.0   95.0                     0.0        0.0   \n",
       "...         ...              ...    ...                     ...        ...   \n",
       "73496  334900.0              3.0  165.0                     0.0        0.0   \n",
       "73497  340500.0              3.0  167.0                     0.0        0.0   \n",
       "73500  307242.0              3.0  150.0                     0.0        0.0   \n",
       "73501  315000.0              3.0  150.0                     0.0        0.0   \n",
       "73502  315000.0              3.0  150.0                     0.0        0.0   \n",
       "\n",
       "       Terrace  Garden  Swimming pool  Antwerp  Brabant Wallon  ...  \\\n",
       "2          1.0     0.0            0.0        1               0  ...   \n",
       "4          0.0     0.0            0.0        0               0  ...   \n",
       "6          0.0     0.0            0.0        0               0  ...   \n",
       "7          1.0     0.0            0.0        1               0  ...   \n",
       "9          1.0     0.0            0.0        1               0  ...   \n",
       "...        ...     ...            ...      ...             ...  ...   \n",
       "73496      0.0     0.0            0.0        0               0  ...   \n",
       "73497      0.0     0.0            0.0        0               0  ...   \n",
       "73500      0.0     0.0            0.0        0               0  ...   \n",
       "73501      1.0     0.0            0.0        0               0  ...   \n",
       "73502      1.0     0.0            0.0        0               0  ...   \n",
       "\n",
       "       Luxembourg  Namur  Oost-Vlanderen  Vlaams-Brabant  West-Vlanderen  \\\n",
       "2               0      0               0               0               0   \n",
       "4               0      0               0               1               0   \n",
       "6               0      0               0               0               1   \n",
       "7               0      0               0               0               0   \n",
       "9               0      0               0               0               0   \n",
       "...           ...    ...             ...             ...             ...   \n",
       "73496           0      0               0               0               0   \n",
       "73497           0      0               0               0               0   \n",
       "73500           0      0               0               0               1   \n",
       "73501           0      0               1               0               0   \n",
       "73502           0      0               1               0               0   \n",
       "\n",
       "       good  new  to renovate  apartment  house  \n",
       "2         0    0            0          1      0  \n",
       "4         0    0            0          1      0  \n",
       "6         0    0            0          1      0  \n",
       "7         0    0            0          1      0  \n",
       "9         0    0            0          1      0  \n",
       "...     ...  ...          ...        ...    ...  \n",
       "73496     0    0            0          0      1  \n",
       "73497     0    0            0          0      1  \n",
       "73500     0    0            0          0      1  \n",
       "73501     1    0            0          0      1  \n",
       "73502     1    0            0          0      1  \n",
       "\n",
       "[58377 rows x 24 columns]"
      ]
     },
     "execution_count": 19,
     "metadata": {},
     "output_type": "execute_result"
    }
   ],
   "source": [
    "df"
   ]
  },
  {
   "cell_type": "markdown",
   "id": "9be79657",
   "metadata": {},
   "source": [
    "## Create train, test\n",
    "WARNING \n",
    "- never take outliers before the train set, they are part of the tests values\n",
    "- only clean wrong data, not possible data, error data, etc..\n",
    "- clean outliers in the train data and monitor over/under fitting aftwards"
   ]
  },
  {
   "cell_type": "code",
   "execution_count": 20,
   "id": "c5017c2b",
   "metadata": {},
   "outputs": [
    {
     "name": "stdout",
     "output_type": "stream",
     "text": [
      "(58377, 23)\n",
      "(58377, 1)\n"
     ]
    }
   ],
   "source": [
    "# create the matrix of x and the y target\n",
    "X = df.iloc[:,1:] \n",
    "y = df.iloc[:,:1] \n",
    "\n",
    "print(X.shape) \n",
    "print(y.shape)\n"
   ]
  },
  {
   "cell_type": "code",
   "execution_count": 21,
   "id": "ab54c94a",
   "metadata": {},
   "outputs": [
    {
     "data": {
      "text/plain": [
       "40863"
      ]
     },
     "execution_count": 21,
     "metadata": {},
     "output_type": "execute_result"
    }
   ],
   "source": [
    "# split into train and test data\n",
    "from sklearn.model_selection import train_test_split\n",
    "# X_train, X_test, y_train, y_test = train_test_split(X, y, test_size=0.3, random_state=40, stratify = y) # 0,1 class can not be stratified\n",
    "X_train, X_test, y_train, y_test = train_test_split(X, y, test_size=0.3, random_state=40)\n",
    "len(X_train)"
   ]
  },
  {
   "cell_type": "code",
   "execution_count": 22,
   "id": "81f698a0",
   "metadata": {},
   "outputs": [],
   "source": [
    "# TODO measure the accuracy of the train test\n"
   ]
  },
  {
   "cell_type": "markdown",
   "id": "c618b65a",
   "metadata": {},
   "source": [
    "## Application of ML\n",
    "\n",
    "choosing your model : https://scikit-learn.org/stable/tutorial/machine_learning_map/index.html\n",
    "\n",
    "- multiple regression\n",
    "- polynomial\n",
    "- random forest\n",
    "- xgboost\n",
    "- ridge\n",
    "LATER\n",
    "- libraries cleaning and engineering by themselves\n"
   ]
  },
  {
   "cell_type": "markdown",
   "id": "941f0825",
   "metadata": {},
   "source": [
    "### multiple linear regression\n",
    "$$\n",
    "\\begin{bmatrix}\n",
    "y^{(1)}\\\\\n",
    "y^{(2)}\\\\\n",
    "y^{(3)}\\\\\n",
    "... \\\\\n",
    "y^{(m)}\\\\\n",
    "\\end{bmatrix}\n",
    "=\n",
    "\\begin{bmatrix}\n",
    "x^{(1)}_1, x^{(1)}_2, 1\\\\\n",
    "x^{(2)}_1, x^{(2)}_2, 1\\\\\n",
    "x^{(3)}_1, x^{(3)}_2, 1\\\\\n",
    "x^{(m)}_1,x^{(m)}_2,  1\\\\\n",
    "\\end{bmatrix}\n",
    ".\n",
    "\\begin{bmatrix}\n",
    "a\\\\\n",
    "b\\\\\n",
    "c\\\\\n",
    "\\end{bmatrix}\n",
    "$$"
   ]
  },
  {
   "cell_type": "code",
   "execution_count": 23,
   "id": "2d53e8dc",
   "metadata": {},
   "outputs": [
    {
     "data": {
      "text/plain": [
       "LinearRegression()"
      ]
     },
     "execution_count": 23,
     "metadata": {},
     "output_type": "execute_result"
    }
   ],
   "source": [
    "# multiple linear regression\n",
    "# with sklearn, no need to add 1 to the matrix\n",
    "from sklearn.linear_model import LinearRegression\n",
    "regressor = LinearRegression()\n",
    "regressor.fit(X_train,y_train)"
   ]
  },
  {
   "cell_type": "code",
   "execution_count": 24,
   "id": "b9021273",
   "metadata": {},
   "outputs": [
    {
     "data": {
      "text/plain": [
       "0.4849571669642677"
      ]
     },
     "execution_count": 24,
     "metadata": {},
     "output_type": "execute_result"
    }
   ],
   "source": [
    "# performance 0,4037 with number of rooms > 7\n",
    "regressor.score(X_train, y_train)"
   ]
  },
  {
   "cell_type": "code",
   "execution_count": 25,
   "id": "5787672c",
   "metadata": {},
   "outputs": [],
   "source": [
    "# visualizing results\n"
   ]
  },
  {
   "cell_type": "code",
   "execution_count": 26,
   "id": "79d16a8d",
   "metadata": {},
   "outputs": [],
   "source": [
    "# play with number of iterations\n"
   ]
  },
  {
   "cell_type": "code",
   "execution_count": 27,
   "id": "4169bf8d",
   "metadata": {},
   "outputs": [],
   "source": [
    "# calculate overfitting and underfitting\n"
   ]
  },
  {
   "cell_type": "markdown",
   "id": "36365dca",
   "metadata": {},
   "source": [
    "### polynomial\n",
    "$$ X =\n",
    "\\begin{bmatrix}\n",
    "x^{(1)}_1, x^{(1)2}_2, ..., x^{(m)k}_{n}, 1\\\\\n",
    "x^{(2)}_1, x^{(2)2}_2, ..., x^{(m)k}_{n}, 1\\\\\n",
    "x^{(3)}_1, x^{(3)2}_2, ..., x^{(m)k}_{n}, 1\\\\\n",
    "x^{(m)}_1,x^{(m)k}_2, ..., x^{(m)k}_{n}, 1\\\\\n",
    "\\end{bmatrix}\n",
    "$$\n",
    "is it applicable here ?"
   ]
  },
  {
   "cell_type": "code",
   "execution_count": 28,
   "id": "a053a0ed",
   "metadata": {},
   "outputs": [],
   "source": [
    "# polynomial regression using SciKitLearn\n"
   ]
  },
  {
   "cell_type": "markdown",
   "id": "23960a5c",
   "metadata": {},
   "source": [
    "## XGboost\n",
    "\n",
    "INSTALL package via conda install xgboost\n",
    "\n",
    "TODO to be used only with 0.5+ score ?\n"
   ]
  },
  {
   "cell_type": "code",
   "execution_count": 29,
   "id": "87a960e0",
   "metadata": {},
   "outputs": [
    {
     "data": {
      "text/plain": [
       "XGBRegressor(base_score=0.5, booster='gbtree', colsample_bylevel=1,\n",
       "             colsample_bynode=1, colsample_bytree=1, gamma=0, gpu_id=-1,\n",
       "             importance_type='gain', interaction_constraints='',\n",
       "             learning_rate=0.300000012, max_delta_step=0, max_depth=6,\n",
       "             min_child_weight=1, missing=nan, monotone_constraints='()',\n",
       "             n_estimators=100, n_jobs=8, num_parallel_tree=1, random_state=0,\n",
       "             reg_alpha=0, reg_lambda=1, scale_pos_weight=1, subsample=1,\n",
       "             tree_method='exact', validate_parameters=1, verbosity=None)"
      ]
     },
     "execution_count": 29,
     "metadata": {},
     "output_type": "execute_result"
    }
   ],
   "source": [
    "from xgboost import XGBRegressor\n",
    "my_model = XGBRegressor()\n",
    "# Add silent=True to avoid printing out updates with each cycle\n",
    "my_model.fit(X_train, y_train, verbose=False)"
   ]
  },
  {
   "cell_type": "code",
   "execution_count": 30,
   "id": "8721fb36",
   "metadata": {},
   "outputs": [
    {
     "name": "stdout",
     "output_type": "stream",
     "text": [
      "Mean Absolute Error : 103712.3279619608\n"
     ]
    },
    {
     "data": {
      "text/plain": [
       "0.6547313481209388"
      ]
     },
     "execution_count": 30,
     "metadata": {},
     "output_type": "execute_result"
    }
   ],
   "source": [
    "# make predictions\n",
    "predictions = my_model.predict(X_test)\n",
    "\n",
    "from sklearn.metrics import mean_absolute_error\n",
    "print(\"Mean Absolute Error : \" + str(mean_absolute_error(predictions, y_test)))\n",
    "my_model.score(X_test, y_test)"
   ]
  },
  {
   "cell_type": "code",
   "execution_count": 31,
   "id": "0d4f9182",
   "metadata": {},
   "outputs": [
    {
     "data": {
      "text/plain": [
       "XGBRegressor(base_score=0.5, booster='gbtree', colsample_bylevel=1,\n",
       "             colsample_bynode=1, colsample_bytree=1, gamma=0, gpu_id=-1,\n",
       "             importance_type='gain', interaction_constraints='',\n",
       "             learning_rate=0.300000012, max_delta_step=0, max_depth=6,\n",
       "             min_child_weight=1, missing=nan, monotone_constraints='()',\n",
       "             n_estimators=1000, n_jobs=8, num_parallel_tree=1, random_state=0,\n",
       "             reg_alpha=0, reg_lambda=1, scale_pos_weight=1, subsample=1,\n",
       "             tree_method='exact', validate_parameters=1, verbosity=None)"
      ]
     },
     "execution_count": 31,
     "metadata": {},
     "output_type": "execute_result"
    }
   ],
   "source": [
    "# finetuning the model\n",
    "my_model = XGBRegressor(n_estimators=1000)\n",
    "my_model.fit(X_train, y_train, early_stopping_rounds=50, \n",
    "             eval_set=[(X_test, y_test)], verbose=False)"
   ]
  },
  {
   "cell_type": "code",
   "execution_count": 32,
   "id": "fd3c0364",
   "metadata": {},
   "outputs": [
    {
     "data": {
      "text/plain": [
       "(17514,)"
      ]
     },
     "execution_count": 32,
     "metadata": {},
     "output_type": "execute_result"
    }
   ],
   "source": [
    "# make predictions\n",
    "predictions = my_model.predict(X_test)\n",
    "predictions.shape\n",
    "# from sklearn.metrics import mean_absolute_error\n",
    "# print(\"Mean Absolute Error : \" + str(mean_absolute_error(predictions, y_test)))"
   ]
  },
  {
   "cell_type": "code",
   "execution_count": 33,
   "id": "468fe49f",
   "metadata": {},
   "outputs": [
    {
     "data": {
      "text/plain": [
       "0.6568082322490618"
      ]
     },
     "execution_count": 33,
     "metadata": {},
     "output_type": "execute_result"
    }
   ],
   "source": [
    "# mesure performance\n",
    "my_model.score(X_test, y_test)"
   ]
  },
  {
   "cell_type": "markdown",
   "id": "f04962b1",
   "metadata": {},
   "source": [
    "## History of performance\n",
    "\n",
    "#### Options: \n",
    "\n",
    "0 < rooms < 9, \n",
    "\n",
    "20 < areas < 1500, \n",
    "\n",
    "20000 < price < 10 000 000\n",
    "\n",
    "MultiLinReg = 0,41 ; XGBoost = 0,48   \n",
    "\n",
    "\n"
   ]
  },
  {
   "cell_type": "markdown",
   "id": "29ff2b0e",
   "metadata": {},
   "source": [
    "# Predict with unseen values\n",
    "\n"
   ]
  },
  {
   "cell_type": "code",
   "execution_count": null,
   "id": "496d68f9",
   "metadata": {},
   "outputs": [],
   "source": []
  },
  {
   "cell_type": "code",
   "execution_count": null,
   "id": "8c2659d0",
   "metadata": {},
   "outputs": [],
   "source": []
  }
 ],
 "metadata": {
  "kernelspec": {
   "display_name": "Python 3",
   "language": "python",
   "name": "python3"
  },
  "language_info": {
   "codemirror_mode": {
    "name": "ipython",
    "version": 3
   },
   "file_extension": ".py",
   "mimetype": "text/x-python",
   "name": "python",
   "nbconvert_exporter": "python",
   "pygments_lexer": "ipython3",
   "version": "3.8.8"
  }
 },
 "nbformat": 4,
 "nbformat_minor": 5
}
